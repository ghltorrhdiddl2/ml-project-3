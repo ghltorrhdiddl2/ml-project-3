{
 "cells": [
  {
   "attachments": {},
   "cell_type": "markdown",
   "metadata": {},
   "source": [
    "### Module & FIle Import"
   ]
  },
  {
   "cell_type": "code",
   "execution_count": 1,
   "metadata": {},
   "outputs": [],
   "source": [
    "import pandas as pd\n",
    "import numpy as np\n",
    "\n",
    "import seaborn as sns\n",
    "import matplotlib.pyplot as plt\n",
    "from matplotlib import font_manager, rc\n",
    "rc(\"font\", family = font_manager.FontProperties(fname=\"C:/Windows/Fonts/KoPubWorld Dotum_Pro Medium.otf\").get_name())\n",
    "\n",
    "get_ipython().run_line_magic('matplotlib', 'inline')"
   ]
  },
  {
   "cell_type": "code",
   "execution_count": 2,
   "metadata": {},
   "outputs": [
    {
     "data": {
      "text/html": [
       "<div>\n",
       "<style scoped>\n",
       "    .dataframe tbody tr th:only-of-type {\n",
       "        vertical-align: middle;\n",
       "    }\n",
       "\n",
       "    .dataframe tbody tr th {\n",
       "        vertical-align: top;\n",
       "    }\n",
       "\n",
       "    .dataframe thead th {\n",
       "        text-align: right;\n",
       "    }\n",
       "</style>\n",
       "<table border=\"1\" class=\"dataframe\">\n",
       "  <thead>\n",
       "    <tr style=\"text-align: right;\">\n",
       "      <th></th>\n",
       "      <th>기업명</th>\n",
       "      <th>기업구분</th>\n",
       "      <th>기업구분코드</th>\n",
       "      <th>사원수</th>\n",
       "      <th>업력</th>\n",
       "      <th>입사율(%)</th>\n",
       "      <th>퇴사율(%)</th>\n",
       "      <th>이직율(%)</th>\n",
       "      <th>별점</th>\n",
       "      <th>가중치</th>\n",
       "      <th>추천</th>\n",
       "    </tr>\n",
       "  </thead>\n",
       "  <tbody>\n",
       "    <tr>\n",
       "      <th>0</th>\n",
       "      <td>(주)페이타랩</td>\n",
       "      <td>중소기업</td>\n",
       "      <td>3.0</td>\n",
       "      <td>52</td>\n",
       "      <td>4.0</td>\n",
       "      <td>114.71</td>\n",
       "      <td>64.71</td>\n",
       "      <td>56.41</td>\n",
       "      <td>4.3</td>\n",
       "      <td>29.5</td>\n",
       "      <td>1.0</td>\n",
       "    </tr>\n",
       "    <tr>\n",
       "      <th>1</th>\n",
       "      <td>(주)엠제이플렉스</td>\n",
       "      <td>중소기업</td>\n",
       "      <td>3.0</td>\n",
       "      <td>930</td>\n",
       "      <td>17.0</td>\n",
       "      <td>89.94</td>\n",
       "      <td>97.84</td>\n",
       "      <td>108.78</td>\n",
       "      <td>2.3</td>\n",
       "      <td>17.0</td>\n",
       "      <td>0.0</td>\n",
       "    </tr>\n",
       "    <tr>\n",
       "      <th>2</th>\n",
       "      <td>(주)앰진</td>\n",
       "      <td>중소기업</td>\n",
       "      <td>3.0</td>\n",
       "      <td>20</td>\n",
       "      <td>10.0</td>\n",
       "      <td>40.00</td>\n",
       "      <td>30.00</td>\n",
       "      <td>75.00</td>\n",
       "      <td>3.0</td>\n",
       "      <td>21.0</td>\n",
       "      <td>0.0</td>\n",
       "    </tr>\n",
       "    <tr>\n",
       "      <th>3</th>\n",
       "      <td>(주)헥토이노베이션</td>\n",
       "      <td>중소기업</td>\n",
       "      <td>3.0</td>\n",
       "      <td>140</td>\n",
       "      <td>14.0</td>\n",
       "      <td>120.00</td>\n",
       "      <td>100.00</td>\n",
       "      <td>83.33</td>\n",
       "      <td>3.3</td>\n",
       "      <td>24.5</td>\n",
       "      <td>1.0</td>\n",
       "    </tr>\n",
       "    <tr>\n",
       "      <th>4</th>\n",
       "      <td>(주)엑스큐어넷</td>\n",
       "      <td>중소기업</td>\n",
       "      <td>3.0</td>\n",
       "      <td>67</td>\n",
       "      <td>23.0</td>\n",
       "      <td>42.86</td>\n",
       "      <td>50.00</td>\n",
       "      <td>116.66</td>\n",
       "      <td>2.4</td>\n",
       "      <td>17.0</td>\n",
       "      <td>0.0</td>\n",
       "    </tr>\n",
       "  </tbody>\n",
       "</table>\n",
       "</div>"
      ],
      "text/plain": [
       "          기업명  기업구분  기업구분코드  사원수    업력  입사율(%)  퇴사율(%)  이직율(%)   별점   가중치   추천\n",
       "0     (주)페이타랩  중소기업     3.0   52   4.0  114.71   64.71   56.41  4.3  29.5  1.0\n",
       "1   (주)엠제이플렉스  중소기업     3.0  930  17.0   89.94   97.84  108.78  2.3  17.0  0.0\n",
       "2       (주)앰진  중소기업     3.0   20  10.0   40.00   30.00   75.00  3.0  21.0  0.0\n",
       "3  (주)헥토이노베이션  중소기업     3.0  140  14.0  120.00  100.00   83.33  3.3  24.5  1.0\n",
       "4    (주)엑스큐어넷  중소기업     3.0   67  23.0   42.86   50.00  116.66  2.4  17.0  0.0"
      ]
     },
     "execution_count": 2,
     "metadata": {},
     "output_type": "execute_result"
    }
   ],
   "source": [
    "df = pd.read_csv('230104_company_weight_rec.csv')\n",
    "df.drop(['Unnamed: 0'], axis=1, inplace=True)\n",
    "df.head()"
   ]
  },
  {
   "attachments": {},
   "cell_type": "markdown",
   "metadata": {},
   "source": [
    "### Preprocessing"
   ]
  },
  {
   "cell_type": "code",
   "execution_count": 26,
   "metadata": {},
   "outputs": [],
   "source": [
    "from sklearn.model_selection import train_test_split\n",
    "\n",
    "X = df[['기업구분코드', '사원수', '업력', '이직율(%)', '별점']]\n",
    "y = df['추천']\n",
    "\n",
    "X_train, X_test, y_train, y_test = \\\n",
    "    train_test_split(X,y, test_size = 0.2, random_state = 13)"
   ]
  },
  {
   "cell_type": "code",
   "execution_count": 23,
   "metadata": {},
   "outputs": [
    {
     "data": {
      "text/html": [
       "<div>\n",
       "<style scoped>\n",
       "    .dataframe tbody tr th:only-of-type {\n",
       "        vertical-align: middle;\n",
       "    }\n",
       "\n",
       "    .dataframe tbody tr th {\n",
       "        vertical-align: top;\n",
       "    }\n",
       "\n",
       "    .dataframe thead th {\n",
       "        text-align: right;\n",
       "    }\n",
       "</style>\n",
       "<table border=\"1\" class=\"dataframe\">\n",
       "  <thead>\n",
       "    <tr style=\"text-align: right;\">\n",
       "      <th></th>\n",
       "      <th>기업구분코드</th>\n",
       "      <th>사원수</th>\n",
       "      <th>업력</th>\n",
       "      <th>이직율(%)</th>\n",
       "      <th>별점</th>\n",
       "    </tr>\n",
       "  </thead>\n",
       "  <tbody>\n",
       "    <tr>\n",
       "      <th>84</th>\n",
       "      <td>3.0</td>\n",
       "      <td>63</td>\n",
       "      <td>20.0</td>\n",
       "      <td>113.61</td>\n",
       "      <td>1.9</td>\n",
       "    </tr>\n",
       "    <tr>\n",
       "      <th>87</th>\n",
       "      <td>3.0</td>\n",
       "      <td>20</td>\n",
       "      <td>4.0</td>\n",
       "      <td>64.29</td>\n",
       "      <td>2.0</td>\n",
       "    </tr>\n",
       "    <tr>\n",
       "      <th>51</th>\n",
       "      <td>3.0</td>\n",
       "      <td>133</td>\n",
       "      <td>16.0</td>\n",
       "      <td>66.34</td>\n",
       "      <td>2.4</td>\n",
       "    </tr>\n",
       "    <tr>\n",
       "      <th>119</th>\n",
       "      <td>3.0</td>\n",
       "      <td>60</td>\n",
       "      <td>21.0</td>\n",
       "      <td>104.01</td>\n",
       "      <td>3.3</td>\n",
       "    </tr>\n",
       "    <tr>\n",
       "      <th>21</th>\n",
       "      <td>3.0</td>\n",
       "      <td>30</td>\n",
       "      <td>15.0</td>\n",
       "      <td>62.35</td>\n",
       "      <td>2.8</td>\n",
       "    </tr>\n",
       "  </tbody>\n",
       "</table>\n",
       "</div>"
      ],
      "text/plain": [
       "     기업구분코드  사원수    업력  이직율(%)   별점\n",
       "84      3.0   63  20.0  113.61  1.9\n",
       "87      3.0   20   4.0   64.29  2.0\n",
       "51      3.0  133  16.0   66.34  2.4\n",
       "119     3.0   60  21.0  104.01  3.3\n",
       "21      3.0   30  15.0   62.35  2.8"
      ]
     },
     "execution_count": 23,
     "metadata": {},
     "output_type": "execute_result"
    }
   ],
   "source": [
    "X_train.head()"
   ]
  },
  {
   "attachments": {},
   "cell_type": "markdown",
   "metadata": {},
   "source": [
    "### Models"
   ]
  },
  {
   "cell_type": "code",
   "execution_count": 24,
   "metadata": {},
   "outputs": [
    {
     "name": "stdout",
     "output_type": "stream",
     "text": [
      "Test max_depth: 2 - accuracy_score: 1.0\n",
      "Test max_depth: 3 - accuracy_score: 1.0\n",
      "Test max_depth: 4 - accuracy_score: 1.0\n",
      "Test max_depth: 5 - accuracy_score: 1.0\n",
      "Test max_depth: 6 - accuracy_score: 1.0\n",
      "Test max_depth: 7 - accuracy_score: 1.0\n",
      "Test max_depth: 8 - accuracy_score: 1.0\n",
      "Test max_depth: 9 - accuracy_score: 1.0\n"
     ]
    }
   ],
   "source": [
    "from sklearn.tree import DecisionTreeClassifier\n",
    "from sklearn.metrics import accuracy_score\n",
    "\n",
    "for i in range(2,10):\n",
    "    dt = DecisionTreeClassifier(max_depth = i, random_state = 13)\n",
    "    dt.fit(X_train, y_train)\n",
    "\n",
    "    y_pred_test = dt.predict(X_test)\n",
    "    print(f'Test max_depth: {i} - accuracy_score: {accuracy_score(y_test, y_pred_test).round(3)}')"
   ]
  },
  {
   "cell_type": "code",
   "execution_count": 29,
   "metadata": {},
   "outputs": [
    {
     "name": "stdout",
     "output_type": "stream",
     "text": [
      "Test n_neighbors: 2 - accuracy_score: 0.543\n",
      "Test n_neighbors: 3 - accuracy_score: 0.543\n",
      "Test n_neighbors: 4 - accuracy_score: 0.543\n",
      "Test n_neighbors: 5 - accuracy_score: 0.629\n",
      "Test n_neighbors: 6 - accuracy_score: 0.657\n",
      "Test n_neighbors: 7 - accuracy_score: 0.686\n",
      "Test n_neighbors: 8 - accuracy_score: 0.657\n",
      "Test n_neighbors: 9 - accuracy_score: 0.571\n"
     ]
    }
   ],
   "source": [
    "from sklearn.neighbors import KNeighborsClassifier\n",
    "\n",
    "for i in range(2,10):\n",
    "    knn = KNeighborsClassifier(n_neighbors=i)\n",
    "    knn.fit(X_train, y_train)\n",
    "\n",
    "    y_pred_test = knn.predict(X_test)\n",
    "    print(f'Test n_neighbors: {i} - accuracy_score: {accuracy_score(y_test, y_pred_test).round(3)}')"
   ]
  },
  {
   "cell_type": "code",
   "execution_count": 30,
   "metadata": {},
   "outputs": [
    {
     "name": "stdout",
     "output_type": "stream",
     "text": [
      "Test n_neighbors: 2 - accuracy_score: 0.571\n",
      "Test n_neighbors: 3 - accuracy_score: 0.571\n",
      "Test n_neighbors: 4 - accuracy_score: 0.571\n",
      "Test n_neighbors: 5 - accuracy_score: 0.571\n",
      "Test n_neighbors: 6 - accuracy_score: 0.571\n",
      "Test n_neighbors: 7 - accuracy_score: 0.571\n",
      "Test n_neighbors: 8 - accuracy_score: 0.571\n",
      "Test n_neighbors: 9 - accuracy_score: 0.571\n"
     ]
    }
   ],
   "source": [
    "from sklearn.ensemble import RandomForestClassifier\n",
    "\n",
    "for i in range(2,10):\n",
    "    rf = RandomForestClassifier(n_estimators=i, random_state=0)\n",
    "    rf.fit(X_train, y_train)\n",
    "\n",
    "    y_pred_test = knn.predict(X_test)\n",
    "    print(f'Test n_neighbors: {i} - accuracy_score: {accuracy_score(y_test, y_pred_test).round(3)}')"
   ]
  },
  {
   "cell_type": "code",
   "execution_count": null,
   "metadata": {},
   "outputs": [],
   "source": []
  }
 ],
 "metadata": {
  "kernelspec": {
   "display_name": ".venv",
   "language": "python",
   "name": "python3"
  },
  "language_info": {
   "codemirror_mode": {
    "name": "ipython",
    "version": 3
   },
   "file_extension": ".py",
   "mimetype": "text/x-python",
   "name": "python",
   "nbconvert_exporter": "python",
   "pygments_lexer": "ipython3",
   "version": "3.10.8"
  },
  "orig_nbformat": 4,
  "vscode": {
   "interpreter": {
    "hash": "e8d4d274fbaccfae6418da56606ce0a68494ad862e6f54264374531294328ea7"
   }
  }
 },
 "nbformat": 4,
 "nbformat_minor": 2
}
