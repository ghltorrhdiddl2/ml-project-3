{
 "cells": [
  {
   "cell_type": "markdown",
   "metadata": {},
   "source": [
    "# 01/03"
   ]
  },
  {
   "cell_type": "markdown",
   "metadata": {},
   "source": [
    "## 가중치 부여\n",
    "## 다양한 모델 돌려보기, 스케일러 적용해보기"
   ]
  },
  {
   "cell_type": "code",
   "execution_count": 1,
   "metadata": {},
   "outputs": [],
   "source": [
    "import matplotlib.pyplot as plt\n",
    "from matplotlib import font_manager, rc\n",
    "import platform\n",
    "\n",
    "get_ipython().run_line_magic('matplotlib','inline')\n",
    "\n",
    "path = 'c:/Windows/Fonts/malgun.ttf'\n",
    "if platform.system() == 'Darwin':\n",
    "    rc('font', family='AppleGothic')\n",
    "elif platform.system() == 'Windows':\n",
    "    font_name = font_manager.FontProperties(fname=path).get_name()\n",
    "    rc('font', family=font_name)\n",
    "else:\n",
    "    print('Unknown system... sorry~~')"
   ]
  },
  {
   "cell_type": "code",
   "execution_count": 2,
   "metadata": {},
   "outputs": [],
   "source": [
    "import pandas as pd\n",
    "import numpy as np\n",
    "import matplotlib.pyplot as plt\n",
    "import seaborn as sns"
   ]
  },
  {
   "cell_type": "code",
   "execution_count": 3,
   "metadata": {},
   "outputs": [
    {
     "data": {
      "text/html": [
       "<div>\n",
       "<style scoped>\n",
       "    .dataframe tbody tr th:only-of-type {\n",
       "        vertical-align: middle;\n",
       "    }\n",
       "\n",
       "    .dataframe tbody tr th {\n",
       "        vertical-align: top;\n",
       "    }\n",
       "\n",
       "    .dataframe thead th {\n",
       "        text-align: right;\n",
       "    }\n",
       "</style>\n",
       "<table border=\"1\" class=\"dataframe\">\n",
       "  <thead>\n",
       "    <tr style=\"text-align: right;\">\n",
       "      <th></th>\n",
       "      <th>Unnamed: 0</th>\n",
       "      <th>기업명</th>\n",
       "      <th>기업구분</th>\n",
       "      <th>기업구분코드</th>\n",
       "      <th>사원수</th>\n",
       "      <th>업력</th>\n",
       "      <th>입사율(%)</th>\n",
       "      <th>퇴사율(%)</th>\n",
       "      <th>이직율(%)</th>\n",
       "      <th>별점</th>\n",
       "      <th>지역</th>\n",
       "      <th>홈페이지</th>\n",
       "    </tr>\n",
       "  </thead>\n",
       "  <tbody>\n",
       "    <tr>\n",
       "      <th>0</th>\n",
       "      <td>0</td>\n",
       "      <td>(주)페이타랩</td>\n",
       "      <td>중소기업</td>\n",
       "      <td>3.0</td>\n",
       "      <td>52</td>\n",
       "      <td>4.0</td>\n",
       "      <td>114.71</td>\n",
       "      <td>64.71</td>\n",
       "      <td>56.41</td>\n",
       "      <td>4.3</td>\n",
       "      <td>부산 부산진구</td>\n",
       "      <td>passorder.co.kr</td>\n",
       "    </tr>\n",
       "    <tr>\n",
       "      <th>1</th>\n",
       "      <td>1</td>\n",
       "      <td>(주)엠제이플렉스</td>\n",
       "      <td>중소기업</td>\n",
       "      <td>3.0</td>\n",
       "      <td>930</td>\n",
       "      <td>17.0</td>\n",
       "      <td>89.94</td>\n",
       "      <td>97.84</td>\n",
       "      <td>108.78</td>\n",
       "      <td>2.3</td>\n",
       "      <td>서울 구로구</td>\n",
       "      <td>www.mjplex.co.kr</td>\n",
       "    </tr>\n",
       "    <tr>\n",
       "      <th>2</th>\n",
       "      <td>2</td>\n",
       "      <td>(주)앰진</td>\n",
       "      <td>중소기업</td>\n",
       "      <td>3.0</td>\n",
       "      <td>20</td>\n",
       "      <td>10.0</td>\n",
       "      <td>40.00</td>\n",
       "      <td>30.00</td>\n",
       "      <td>75.00</td>\n",
       "      <td>3.0</td>\n",
       "      <td>서울 송파구</td>\n",
       "      <td>www.amgine.co.kr</td>\n",
       "    </tr>\n",
       "    <tr>\n",
       "      <th>3</th>\n",
       "      <td>3</td>\n",
       "      <td>(주)도킹블록</td>\n",
       "      <td>중소기업</td>\n",
       "      <td>3.0</td>\n",
       "      <td>11</td>\n",
       "      <td>3.0</td>\n",
       "      <td>120.00</td>\n",
       "      <td>100.00</td>\n",
       "      <td>83.33</td>\n",
       "      <td>0.0</td>\n",
       "      <td>서울 강남구</td>\n",
       "      <td>dockingblock.com</td>\n",
       "    </tr>\n",
       "    <tr>\n",
       "      <th>4</th>\n",
       "      <td>4</td>\n",
       "      <td>(주)헥토이노베이션</td>\n",
       "      <td>중소기업</td>\n",
       "      <td>3.0</td>\n",
       "      <td>140</td>\n",
       "      <td>14.0</td>\n",
       "      <td>120.00</td>\n",
       "      <td>100.00</td>\n",
       "      <td>83.33</td>\n",
       "      <td>3.3</td>\n",
       "      <td>서울 강남구</td>\n",
       "      <td>https://www.hectoinnovation.co.kr/</td>\n",
       "    </tr>\n",
       "  </tbody>\n",
       "</table>\n",
       "</div>"
      ],
      "text/plain": [
       "   Unnamed: 0         기업명  기업구분  기업구분코드  사원수    업력  입사율(%)  퇴사율(%)  이직율(%)  \\\n",
       "0           0     (주)페이타랩  중소기업     3.0   52   4.0  114.71   64.71   56.41   \n",
       "1           1   (주)엠제이플렉스  중소기업     3.0  930  17.0   89.94   97.84  108.78   \n",
       "2           2       (주)앰진  중소기업     3.0   20  10.0   40.00   30.00   75.00   \n",
       "3           3     (주)도킹블록  중소기업     3.0   11   3.0  120.00  100.00   83.33   \n",
       "4           4  (주)헥토이노베이션  중소기업     3.0  140  14.0  120.00  100.00   83.33   \n",
       "\n",
       "    별점       지역                                홈페이지  \n",
       "0  4.3  부산 부산진구                     passorder.co.kr  \n",
       "1  2.3   서울 구로구                    www.mjplex.co.kr  \n",
       "2  3.0   서울 송파구                    www.amgine.co.kr  \n",
       "3  0.0   서울 강남구                    dockingblock.com  \n",
       "4  3.3   서울 강남구  https://www.hectoinnovation.co.kr/  "
      ]
     },
     "execution_count": 3,
     "metadata": {},
     "output_type": "execute_result"
    }
   ],
   "source": [
    "df = pd.read_csv('../EDA&Preprocessing/230103_company_add.csv')\n",
    "df.head()"
   ]
  },
  {
   "cell_type": "code",
   "execution_count": 4,
   "metadata": {},
   "outputs": [
    {
     "data": {
      "text/html": [
       "<div>\n",
       "<style scoped>\n",
       "    .dataframe tbody tr th:only-of-type {\n",
       "        vertical-align: middle;\n",
       "    }\n",
       "\n",
       "    .dataframe tbody tr th {\n",
       "        vertical-align: top;\n",
       "    }\n",
       "\n",
       "    .dataframe thead th {\n",
       "        text-align: right;\n",
       "    }\n",
       "</style>\n",
       "<table border=\"1\" class=\"dataframe\">\n",
       "  <thead>\n",
       "    <tr style=\"text-align: right;\">\n",
       "      <th></th>\n",
       "      <th>기업명</th>\n",
       "      <th>기업구분</th>\n",
       "      <th>기업구분코드</th>\n",
       "      <th>사원수</th>\n",
       "      <th>업력</th>\n",
       "      <th>입사율(%)</th>\n",
       "      <th>퇴사율(%)</th>\n",
       "      <th>이직율(%)</th>\n",
       "      <th>별점</th>\n",
       "    </tr>\n",
       "  </thead>\n",
       "  <tbody>\n",
       "    <tr>\n",
       "      <th>0</th>\n",
       "      <td>(주)페이타랩</td>\n",
       "      <td>중소기업</td>\n",
       "      <td>3.0</td>\n",
       "      <td>52</td>\n",
       "      <td>4.0</td>\n",
       "      <td>114.71</td>\n",
       "      <td>64.71</td>\n",
       "      <td>56.41</td>\n",
       "      <td>4.3</td>\n",
       "    </tr>\n",
       "    <tr>\n",
       "      <th>1</th>\n",
       "      <td>(주)엠제이플렉스</td>\n",
       "      <td>중소기업</td>\n",
       "      <td>3.0</td>\n",
       "      <td>930</td>\n",
       "      <td>17.0</td>\n",
       "      <td>89.94</td>\n",
       "      <td>97.84</td>\n",
       "      <td>108.78</td>\n",
       "      <td>2.3</td>\n",
       "    </tr>\n",
       "    <tr>\n",
       "      <th>2</th>\n",
       "      <td>(주)앰진</td>\n",
       "      <td>중소기업</td>\n",
       "      <td>3.0</td>\n",
       "      <td>20</td>\n",
       "      <td>10.0</td>\n",
       "      <td>40.00</td>\n",
       "      <td>30.00</td>\n",
       "      <td>75.00</td>\n",
       "      <td>3.0</td>\n",
       "    </tr>\n",
       "    <tr>\n",
       "      <th>3</th>\n",
       "      <td>(주)도킹블록</td>\n",
       "      <td>중소기업</td>\n",
       "      <td>3.0</td>\n",
       "      <td>11</td>\n",
       "      <td>3.0</td>\n",
       "      <td>120.00</td>\n",
       "      <td>100.00</td>\n",
       "      <td>83.33</td>\n",
       "      <td>0.0</td>\n",
       "    </tr>\n",
       "    <tr>\n",
       "      <th>4</th>\n",
       "      <td>(주)헥토이노베이션</td>\n",
       "      <td>중소기업</td>\n",
       "      <td>3.0</td>\n",
       "      <td>140</td>\n",
       "      <td>14.0</td>\n",
       "      <td>120.00</td>\n",
       "      <td>100.00</td>\n",
       "      <td>83.33</td>\n",
       "      <td>3.3</td>\n",
       "    </tr>\n",
       "  </tbody>\n",
       "</table>\n",
       "</div>"
      ],
      "text/plain": [
       "          기업명  기업구분  기업구분코드  사원수    업력  입사율(%)  퇴사율(%)  이직율(%)   별점\n",
       "0     (주)페이타랩  중소기업     3.0   52   4.0  114.71   64.71   56.41  4.3\n",
       "1   (주)엠제이플렉스  중소기업     3.0  930  17.0   89.94   97.84  108.78  2.3\n",
       "2       (주)앰진  중소기업     3.0   20  10.0   40.00   30.00   75.00  3.0\n",
       "3     (주)도킹블록  중소기업     3.0   11   3.0  120.00  100.00   83.33  0.0\n",
       "4  (주)헥토이노베이션  중소기업     3.0  140  14.0  120.00  100.00   83.33  3.3"
      ]
     },
     "execution_count": 4,
     "metadata": {},
     "output_type": "execute_result"
    }
   ],
   "source": [
    "df_md = df.iloc[:,1:-2]\n",
    "df_md.head()"
   ]
  },
  {
   "cell_type": "code",
   "execution_count": 5,
   "metadata": {},
   "outputs": [
    {
     "name": "stdout",
     "output_type": "stream",
     "text": [
      "<class 'pandas.core.frame.DataFrame'>\n",
      "RangeIndex: 185 entries, 0 to 184\n",
      "Data columns (total 9 columns):\n",
      " #   Column  Non-Null Count  Dtype  \n",
      "---  ------  --------------  -----  \n",
      " 0   기업명     185 non-null    object \n",
      " 1   기업구분    185 non-null    object \n",
      " 2   기업구분코드  185 non-null    float64\n",
      " 3   사원수     185 non-null    int64  \n",
      " 4   업력      185 non-null    float64\n",
      " 5   입사율(%)  185 non-null    float64\n",
      " 6   퇴사율(%)  185 non-null    float64\n",
      " 7   이직율(%)  185 non-null    float64\n",
      " 8   별점      185 non-null    float64\n",
      "dtypes: float64(6), int64(1), object(2)\n",
      "memory usage: 13.1+ KB\n"
     ]
    }
   ],
   "source": [
    "df_md.info()"
   ]
  },
  {
   "cell_type": "markdown",
   "metadata": {},
   "source": [
    "## 가중치"
   ]
  },
  {
   "cell_type": "code",
   "execution_count": 6,
   "metadata": {},
   "outputs": [
    {
     "data": {
      "text/html": [
       "<div>\n",
       "<style scoped>\n",
       "    .dataframe tbody tr th:only-of-type {\n",
       "        vertical-align: middle;\n",
       "    }\n",
       "\n",
       "    .dataframe tbody tr th {\n",
       "        vertical-align: top;\n",
       "    }\n",
       "\n",
       "    .dataframe thead th {\n",
       "        text-align: right;\n",
       "    }\n",
       "</style>\n",
       "<table border=\"1\" class=\"dataframe\">\n",
       "  <thead>\n",
       "    <tr style=\"text-align: right;\">\n",
       "      <th></th>\n",
       "      <th>기업명</th>\n",
       "      <th>기업구분</th>\n",
       "      <th>기업구분코드</th>\n",
       "      <th>사원수</th>\n",
       "      <th>업력</th>\n",
       "      <th>입사율(%)</th>\n",
       "      <th>퇴사율(%)</th>\n",
       "      <th>이직율(%)</th>\n",
       "      <th>별점</th>\n",
       "      <th>가중치</th>\n",
       "      <th>추천</th>\n",
       "    </tr>\n",
       "  </thead>\n",
       "  <tbody>\n",
       "    <tr>\n",
       "      <th>0</th>\n",
       "      <td>(주)페이타랩</td>\n",
       "      <td>중소기업</td>\n",
       "      <td>3.0</td>\n",
       "      <td>52</td>\n",
       "      <td>4.0</td>\n",
       "      <td>114.71</td>\n",
       "      <td>64.71</td>\n",
       "      <td>56.41</td>\n",
       "      <td>4.3</td>\n",
       "      <td>NaN</td>\n",
       "      <td>NaN</td>\n",
       "    </tr>\n",
       "    <tr>\n",
       "      <th>1</th>\n",
       "      <td>(주)엠제이플렉스</td>\n",
       "      <td>중소기업</td>\n",
       "      <td>3.0</td>\n",
       "      <td>930</td>\n",
       "      <td>17.0</td>\n",
       "      <td>89.94</td>\n",
       "      <td>97.84</td>\n",
       "      <td>108.78</td>\n",
       "      <td>2.3</td>\n",
       "      <td>NaN</td>\n",
       "      <td>NaN</td>\n",
       "    </tr>\n",
       "    <tr>\n",
       "      <th>2</th>\n",
       "      <td>(주)앰진</td>\n",
       "      <td>중소기업</td>\n",
       "      <td>3.0</td>\n",
       "      <td>20</td>\n",
       "      <td>10.0</td>\n",
       "      <td>40.00</td>\n",
       "      <td>30.00</td>\n",
       "      <td>75.00</td>\n",
       "      <td>3.0</td>\n",
       "      <td>NaN</td>\n",
       "      <td>NaN</td>\n",
       "    </tr>\n",
       "  </tbody>\n",
       "</table>\n",
       "</div>"
      ],
      "text/plain": [
       "         기업명  기업구분  기업구분코드  사원수    업력  입사율(%)  퇴사율(%)  이직율(%)   별점  가중치  추천\n",
       "0    (주)페이타랩  중소기업     3.0   52   4.0  114.71   64.71   56.41  4.3  NaN NaN\n",
       "1  (주)엠제이플렉스  중소기업     3.0  930  17.0   89.94   97.84  108.78  2.3  NaN NaN\n",
       "2      (주)앰진  중소기업     3.0   20  10.0   40.00   30.00   75.00  3.0  NaN NaN"
      ]
     },
     "execution_count": 6,
     "metadata": {},
     "output_type": "execute_result"
    }
   ],
   "source": [
    "df_md['가중치'] = np.nan\n",
    "df_md['추천'] = np.nan\n",
    "df_md.head(3)"
   ]
  },
  {
   "cell_type": "markdown",
   "metadata": {},
   "source": [
    "#### 기업구분(20), 사원수(10), 업력(10), 이직률(%)(30), 별점(30)에 따라서 가중치 부여"
   ]
  },
  {
   "cell_type": "markdown",
   "metadata": {},
   "source": [
    "- 기업구분 : 중소10, 중견20, 대30, 기타15\n",
    "- 사원수 : 사분위(10단위)\n",
    "- 업력 : 사분위(10단위)  \n",
    "- 이직률 : 사분위 / 1분위 이하 :0, 1분위~2분위:10, 2분위~3분위:20 ,3분위~ : 30\n",
    "- 별점 : 0~10%: 0, 10~25%: 10, 25~50%: 15, 50~75%: 20, 75~90%: 25, 90%~: 35"
   ]
  },
  {
   "cell_type": "code",
   "execution_count": 7,
   "metadata": {},
   "outputs": [
    {
     "data": {
      "text/html": [
       "<div>\n",
       "<style scoped>\n",
       "    .dataframe tbody tr th:only-of-type {\n",
       "        vertical-align: middle;\n",
       "    }\n",
       "\n",
       "    .dataframe tbody tr th {\n",
       "        vertical-align: top;\n",
       "    }\n",
       "\n",
       "    .dataframe thead th {\n",
       "        text-align: right;\n",
       "    }\n",
       "</style>\n",
       "<table border=\"1\" class=\"dataframe\">\n",
       "  <thead>\n",
       "    <tr style=\"text-align: right;\">\n",
       "      <th></th>\n",
       "      <th>사원수</th>\n",
       "      <th>업력</th>\n",
       "      <th>이직율(%)</th>\n",
       "      <th>별점</th>\n",
       "    </tr>\n",
       "  </thead>\n",
       "  <tbody>\n",
       "    <tr>\n",
       "      <th>count</th>\n",
       "      <td>185.000000</td>\n",
       "      <td>185.000000</td>\n",
       "      <td>185.000000</td>\n",
       "      <td>185.000000</td>\n",
       "    </tr>\n",
       "    <tr>\n",
       "      <th>mean</th>\n",
       "      <td>291.216216</td>\n",
       "      <td>14.891892</td>\n",
       "      <td>92.734649</td>\n",
       "      <td>2.697838</td>\n",
       "    </tr>\n",
       "    <tr>\n",
       "      <th>std</th>\n",
       "      <td>966.772897</td>\n",
       "      <td>9.775145</td>\n",
       "      <td>58.881789</td>\n",
       "      <td>0.901506</td>\n",
       "    </tr>\n",
       "    <tr>\n",
       "      <th>min</th>\n",
       "      <td>2.000000</td>\n",
       "      <td>1.000000</td>\n",
       "      <td>0.000000</td>\n",
       "      <td>0.000000</td>\n",
       "    </tr>\n",
       "    <tr>\n",
       "      <th>25%</th>\n",
       "      <td>27.000000</td>\n",
       "      <td>7.000000</td>\n",
       "      <td>62.350000</td>\n",
       "      <td>2.400000</td>\n",
       "    </tr>\n",
       "    <tr>\n",
       "      <th>50%</th>\n",
       "      <td>68.000000</td>\n",
       "      <td>14.000000</td>\n",
       "      <td>81.000000</td>\n",
       "      <td>2.700000</td>\n",
       "    </tr>\n",
       "    <tr>\n",
       "      <th>75%</th>\n",
       "      <td>197.000000</td>\n",
       "      <td>21.000000</td>\n",
       "      <td>105.240000</td>\n",
       "      <td>3.200000</td>\n",
       "    </tr>\n",
       "    <tr>\n",
       "      <th>max</th>\n",
       "      <td>9658.000000</td>\n",
       "      <td>55.000000</td>\n",
       "      <td>438.810000</td>\n",
       "      <td>5.000000</td>\n",
       "    </tr>\n",
       "  </tbody>\n",
       "</table>\n",
       "</div>"
      ],
      "text/plain": [
       "               사원수          업력      이직율(%)          별점\n",
       "count   185.000000  185.000000  185.000000  185.000000\n",
       "mean    291.216216   14.891892   92.734649    2.697838\n",
       "std     966.772897    9.775145   58.881789    0.901506\n",
       "min       2.000000    1.000000    0.000000    0.000000\n",
       "25%      27.000000    7.000000   62.350000    2.400000\n",
       "50%      68.000000   14.000000   81.000000    2.700000\n",
       "75%     197.000000   21.000000  105.240000    3.200000\n",
       "max    9658.000000   55.000000  438.810000    5.000000"
      ]
     },
     "execution_count": 7,
     "metadata": {},
     "output_type": "execute_result"
    }
   ],
   "source": [
    "df_md[['사원수','업력','이직율(%)','별점']].describe()"
   ]
  },
  {
   "cell_type": "code",
   "execution_count": 8,
   "metadata": {},
   "outputs": [],
   "source": [
    "for idx, rows in df_md.iterrows():\n",
    "    weight = 0\n",
    "    # print(df_md.iloc[idx,])\n",
    "    # 기업구분에 따라서\n",
    "    if df_md.iloc[idx,1] == '중소기업':\n",
    "        weight += 10*0.2\n",
    "    elif df_md.iloc[idx,1] == '중견기업':\n",
    "        weight += 20*0.2\n",
    "    elif df_md.iloc[idx,1] == '대기업':\n",
    "        weight += 30*0.2\n",
    "    elif df_md.iloc[idx,1] == '기타':\n",
    "        weight += 15*0.2\n",
    "    \n",
    "    # 사원수에 따라서    \n",
    "    if df_md.iloc[idx,3] < 27.0:\n",
    "        weight += 10*0.1\n",
    "    elif df_md.iloc[idx,3] < 68.0:\n",
    "        weight += 20*0.1\n",
    "    elif df_md.iloc[idx,3] < 197.0:\n",
    "        weight += 30*0.1\n",
    "    else:\n",
    "        weight += 40*0.1\n",
    "        \n",
    "    # 업력에 따라서\n",
    "    if df_md.iloc[idx,4] < 7:\n",
    "        weight += 10*0.1\n",
    "    elif df_md.iloc[idx,4] < 14:\n",
    "        weight += 20*0.1\n",
    "    elif df_md.iloc[idx,4] < 21:\n",
    "        weight += 30*0.1\n",
    "    else:\n",
    "        weight += 40*0.1\n",
    "        \n",
    "    # 이직률(%)에 따라서\n",
    "    if df_md.iloc[idx,-4] < 62.35:\n",
    "        weight += 0\n",
    "    elif df_md.iloc[idx,-4] < 81.00:\n",
    "        weight += 10*0.3\n",
    "    elif df_md.iloc[idx,-4] < 105.24:\n",
    "        weight += 20*0.3\n",
    "    else:\n",
    "        weight += 30*0.3\n",
    "    \n",
    "    # 별점에 따라서****\n",
    "    if df_md.iloc[idx,-2] <= df_md['별점'].quantile(0.1):\n",
    "        weight += 0\n",
    "    elif df_md.iloc[idx,-2] <= df_md['별점'].quantile(0.25):\n",
    "        weight += 10*0.3\n",
    "    elif df_md.iloc[idx,-2] <= df_md['별점'].quantile(0.50):\n",
    "        weight += 15*0.3\n",
    "    elif df_md.iloc[idx,-2] <= df_md['별점'].quantile(0.75):\n",
    "        weight += 20*0.3\n",
    "    elif df_md.iloc[idx,-2] <= df_md['별점'].quantile(0.90):\n",
    "        weight += 25*0.3\n",
    "    else:\n",
    "        weight += 35*0.3\n",
    "    \n",
    "    # print(weight)\n",
    "    # print()\n",
    "    \n",
    "    df_md.loc[idx, '가중치'] = weight"
   ]
  },
  {
   "cell_type": "code",
   "execution_count": 9,
   "metadata": {},
   "outputs": [
    {
     "data": {
      "text/plain": [
       "count    185.000000\n",
       "mean       2.697838\n",
       "std        0.901506\n",
       "min        0.000000\n",
       "25%        2.400000\n",
       "50%        2.700000\n",
       "75%        3.200000\n",
       "max        5.000000\n",
       "Name: 별점, dtype: float64"
      ]
     },
     "execution_count": 9,
     "metadata": {},
     "output_type": "execute_result"
    }
   ],
   "source": [
    "df_md['별점'].describe()"
   ]
  },
  {
   "cell_type": "code",
   "execution_count": 10,
   "metadata": {},
   "outputs": [
    {
     "data": {
      "text/plain": [
       "3.2"
      ]
     },
     "execution_count": 10,
     "metadata": {},
     "output_type": "execute_result"
    }
   ],
   "source": [
    "df_md['별점'].quantile(0.75)"
   ]
  },
  {
   "cell_type": "markdown",
   "metadata": {},
   "source": [
    "#### 가중치 잘 들어갔나 확인"
   ]
  },
  {
   "cell_type": "code",
   "execution_count": 11,
   "metadata": {},
   "outputs": [
    {
     "data": {
      "text/html": [
       "<div>\n",
       "<style scoped>\n",
       "    .dataframe tbody tr th:only-of-type {\n",
       "        vertical-align: middle;\n",
       "    }\n",
       "\n",
       "    .dataframe tbody tr th {\n",
       "        vertical-align: top;\n",
       "    }\n",
       "\n",
       "    .dataframe thead th {\n",
       "        text-align: right;\n",
       "    }\n",
       "</style>\n",
       "<table border=\"1\" class=\"dataframe\">\n",
       "  <thead>\n",
       "    <tr style=\"text-align: right;\">\n",
       "      <th></th>\n",
       "      <th>기업명</th>\n",
       "      <th>기업구분</th>\n",
       "      <th>기업구분코드</th>\n",
       "      <th>사원수</th>\n",
       "      <th>업력</th>\n",
       "      <th>입사율(%)</th>\n",
       "      <th>퇴사율(%)</th>\n",
       "      <th>이직율(%)</th>\n",
       "      <th>별점</th>\n",
       "      <th>가중치</th>\n",
       "      <th>추천</th>\n",
       "    </tr>\n",
       "  </thead>\n",
       "  <tbody>\n",
       "    <tr>\n",
       "      <th>0</th>\n",
       "      <td>(주)페이타랩</td>\n",
       "      <td>중소기업</td>\n",
       "      <td>3.0</td>\n",
       "      <td>52</td>\n",
       "      <td>4.0</td>\n",
       "      <td>114.71</td>\n",
       "      <td>64.71</td>\n",
       "      <td>56.41</td>\n",
       "      <td>4.3</td>\n",
       "      <td>15.5</td>\n",
       "      <td>NaN</td>\n",
       "    </tr>\n",
       "    <tr>\n",
       "      <th>1</th>\n",
       "      <td>(주)엠제이플렉스</td>\n",
       "      <td>중소기업</td>\n",
       "      <td>3.0</td>\n",
       "      <td>930</td>\n",
       "      <td>17.0</td>\n",
       "      <td>89.94</td>\n",
       "      <td>97.84</td>\n",
       "      <td>108.78</td>\n",
       "      <td>2.3</td>\n",
       "      <td>28.5</td>\n",
       "      <td>NaN</td>\n",
       "    </tr>\n",
       "    <tr>\n",
       "      <th>2</th>\n",
       "      <td>(주)앰진</td>\n",
       "      <td>중소기업</td>\n",
       "      <td>3.0</td>\n",
       "      <td>20</td>\n",
       "      <td>10.0</td>\n",
       "      <td>40.00</td>\n",
       "      <td>30.00</td>\n",
       "      <td>75.00</td>\n",
       "      <td>3.0</td>\n",
       "      <td>18.5</td>\n",
       "      <td>NaN</td>\n",
       "    </tr>\n",
       "    <tr>\n",
       "      <th>3</th>\n",
       "      <td>(주)도킹블록</td>\n",
       "      <td>중소기업</td>\n",
       "      <td>3.0</td>\n",
       "      <td>11</td>\n",
       "      <td>3.0</td>\n",
       "      <td>120.00</td>\n",
       "      <td>100.00</td>\n",
       "      <td>83.33</td>\n",
       "      <td>0.0</td>\n",
       "      <td>20.5</td>\n",
       "      <td>NaN</td>\n",
       "    </tr>\n",
       "    <tr>\n",
       "      <th>4</th>\n",
       "      <td>(주)헥토이노베이션</td>\n",
       "      <td>중소기업</td>\n",
       "      <td>3.0</td>\n",
       "      <td>140</td>\n",
       "      <td>14.0</td>\n",
       "      <td>120.00</td>\n",
       "      <td>100.00</td>\n",
       "      <td>83.33</td>\n",
       "      <td>3.3</td>\n",
       "      <td>24.5</td>\n",
       "      <td>NaN</td>\n",
       "    </tr>\n",
       "    <tr>\n",
       "      <th>...</th>\n",
       "      <td>...</td>\n",
       "      <td>...</td>\n",
       "      <td>...</td>\n",
       "      <td>...</td>\n",
       "      <td>...</td>\n",
       "      <td>...</td>\n",
       "      <td>...</td>\n",
       "      <td>...</td>\n",
       "      <td>...</td>\n",
       "      <td>...</td>\n",
       "      <td>...</td>\n",
       "    </tr>\n",
       "    <tr>\n",
       "      <th>180</th>\n",
       "      <td>(주)유니텍</td>\n",
       "      <td>기타</td>\n",
       "      <td>4.0</td>\n",
       "      <td>36</td>\n",
       "      <td>33.0</td>\n",
       "      <td>8.82</td>\n",
       "      <td>23.53</td>\n",
       "      <td>266.78</td>\n",
       "      <td>2.2</td>\n",
       "      <td>28.5</td>\n",
       "      <td>NaN</td>\n",
       "    </tr>\n",
       "    <tr>\n",
       "      <th>181</th>\n",
       "      <td>(주)우리기술</td>\n",
       "      <td>기타</td>\n",
       "      <td>4.0</td>\n",
       "      <td>115</td>\n",
       "      <td>27.0</td>\n",
       "      <td>8.77</td>\n",
       "      <td>5.26</td>\n",
       "      <td>59.98</td>\n",
       "      <td>2.2</td>\n",
       "      <td>20.5</td>\n",
       "      <td>NaN</td>\n",
       "    </tr>\n",
       "    <tr>\n",
       "      <th>182</th>\n",
       "      <td>한국쓰리엠(주)</td>\n",
       "      <td>기타</td>\n",
       "      <td>4.0</td>\n",
       "      <td>1686</td>\n",
       "      <td>45.0</td>\n",
       "      <td>7.25</td>\n",
       "      <td>8.00</td>\n",
       "      <td>110.34</td>\n",
       "      <td>3.7</td>\n",
       "      <td>30.5</td>\n",
       "      <td>NaN</td>\n",
       "    </tr>\n",
       "    <tr>\n",
       "      <th>183</th>\n",
       "      <td>에스지에이(주)</td>\n",
       "      <td>기타</td>\n",
       "      <td>4.0</td>\n",
       "      <td>193</td>\n",
       "      <td>25.0</td>\n",
       "      <td>80.61</td>\n",
       "      <td>70.92</td>\n",
       "      <td>87.98</td>\n",
       "      <td>2.5</td>\n",
       "      <td>26.5</td>\n",
       "      <td>NaN</td>\n",
       "    </tr>\n",
       "    <tr>\n",
       "      <th>184</th>\n",
       "      <td>주식회사 한국미래에너지</td>\n",
       "      <td>기타</td>\n",
       "      <td>4.0</td>\n",
       "      <td>25</td>\n",
       "      <td>6.0</td>\n",
       "      <td>42.31</td>\n",
       "      <td>84.62</td>\n",
       "      <td>200.00</td>\n",
       "      <td>3.0</td>\n",
       "      <td>24.5</td>\n",
       "      <td>NaN</td>\n",
       "    </tr>\n",
       "  </tbody>\n",
       "</table>\n",
       "<p>185 rows × 11 columns</p>\n",
       "</div>"
      ],
      "text/plain": [
       "              기업명  기업구분  기업구분코드   사원수    업력  입사율(%)  퇴사율(%)  이직율(%)   별점  \\\n",
       "0         (주)페이타랩  중소기업     3.0    52   4.0  114.71   64.71   56.41  4.3   \n",
       "1       (주)엠제이플렉스  중소기업     3.0   930  17.0   89.94   97.84  108.78  2.3   \n",
       "2           (주)앰진  중소기업     3.0    20  10.0   40.00   30.00   75.00  3.0   \n",
       "3         (주)도킹블록  중소기업     3.0    11   3.0  120.00  100.00   83.33  0.0   \n",
       "4      (주)헥토이노베이션  중소기업     3.0   140  14.0  120.00  100.00   83.33  3.3   \n",
       "..            ...   ...     ...   ...   ...     ...     ...     ...  ...   \n",
       "180        (주)유니텍    기타     4.0    36  33.0    8.82   23.53  266.78  2.2   \n",
       "181       (주)우리기술    기타     4.0   115  27.0    8.77    5.26   59.98  2.2   \n",
       "182      한국쓰리엠(주)    기타     4.0  1686  45.0    7.25    8.00  110.34  3.7   \n",
       "183      에스지에이(주)    기타     4.0   193  25.0   80.61   70.92   87.98  2.5   \n",
       "184  주식회사 한국미래에너지    기타     4.0    25   6.0   42.31   84.62  200.00  3.0   \n",
       "\n",
       "      가중치  추천  \n",
       "0    15.5 NaN  \n",
       "1    28.5 NaN  \n",
       "2    18.5 NaN  \n",
       "3    20.5 NaN  \n",
       "4    24.5 NaN  \n",
       "..    ...  ..  \n",
       "180  28.5 NaN  \n",
       "181  20.5 NaN  \n",
       "182  30.5 NaN  \n",
       "183  26.5 NaN  \n",
       "184  24.5 NaN  \n",
       "\n",
       "[185 rows x 11 columns]"
      ]
     },
     "execution_count": 11,
     "metadata": {},
     "output_type": "execute_result"
    }
   ],
   "source": [
    "df_md"
   ]
  },
  {
   "cell_type": "code",
   "execution_count": 12,
   "metadata": {},
   "outputs": [
    {
     "data": {
      "text/html": [
       "<div>\n",
       "<style scoped>\n",
       "    .dataframe tbody tr th:only-of-type {\n",
       "        vertical-align: middle;\n",
       "    }\n",
       "\n",
       "    .dataframe tbody tr th {\n",
       "        vertical-align: top;\n",
       "    }\n",
       "\n",
       "    .dataframe thead th {\n",
       "        text-align: right;\n",
       "    }\n",
       "</style>\n",
       "<table border=\"1\" class=\"dataframe\">\n",
       "  <thead>\n",
       "    <tr style=\"text-align: right;\">\n",
       "      <th></th>\n",
       "      <th>count</th>\n",
       "      <th>mean</th>\n",
       "      <th>std</th>\n",
       "      <th>min</th>\n",
       "      <th>25%</th>\n",
       "      <th>50%</th>\n",
       "      <th>75%</th>\n",
       "      <th>max</th>\n",
       "    </tr>\n",
       "    <tr>\n",
       "      <th>기업구분</th>\n",
       "      <th></th>\n",
       "      <th></th>\n",
       "      <th></th>\n",
       "      <th></th>\n",
       "      <th></th>\n",
       "      <th></th>\n",
       "      <th></th>\n",
       "      <th></th>\n",
       "    </tr>\n",
       "  </thead>\n",
       "  <tbody>\n",
       "    <tr>\n",
       "      <th>기타</th>\n",
       "      <td>18.0</td>\n",
       "      <td>25.611111</td>\n",
       "      <td>3.909098</td>\n",
       "      <td>19.5</td>\n",
       "      <td>22.00</td>\n",
       "      <td>26.5</td>\n",
       "      <td>28.50</td>\n",
       "      <td>30.5</td>\n",
       "    </tr>\n",
       "    <tr>\n",
       "      <th>대기업</th>\n",
       "      <td>12.0</td>\n",
       "      <td>26.833333</td>\n",
       "      <td>4.097301</td>\n",
       "      <td>20.5</td>\n",
       "      <td>24.00</td>\n",
       "      <td>27.5</td>\n",
       "      <td>29.75</td>\n",
       "      <td>33.5</td>\n",
       "    </tr>\n",
       "    <tr>\n",
       "      <th>중견기업</th>\n",
       "      <td>24.0</td>\n",
       "      <td>26.041667</td>\n",
       "      <td>3.438644</td>\n",
       "      <td>18.5</td>\n",
       "      <td>25.25</td>\n",
       "      <td>26.5</td>\n",
       "      <td>27.75</td>\n",
       "      <td>31.5</td>\n",
       "    </tr>\n",
       "    <tr>\n",
       "      <th>중소기업</th>\n",
       "      <td>131.0</td>\n",
       "      <td>21.301527</td>\n",
       "      <td>3.730168</td>\n",
       "      <td>14.5</td>\n",
       "      <td>18.50</td>\n",
       "      <td>21.5</td>\n",
       "      <td>24.50</td>\n",
       "      <td>28.5</td>\n",
       "    </tr>\n",
       "  </tbody>\n",
       "</table>\n",
       "</div>"
      ],
      "text/plain": [
       "      count       mean       std   min    25%   50%    75%   max\n",
       "기업구분                                                            \n",
       "기타     18.0  25.611111  3.909098  19.5  22.00  26.5  28.50  30.5\n",
       "대기업    12.0  26.833333  4.097301  20.5  24.00  27.5  29.75  33.5\n",
       "중견기업   24.0  26.041667  3.438644  18.5  25.25  26.5  27.75  31.5\n",
       "중소기업  131.0  21.301527  3.730168  14.5  18.50  21.5  24.50  28.5"
      ]
     },
     "execution_count": 12,
     "metadata": {},
     "output_type": "execute_result"
    }
   ],
   "source": [
    "df_md.groupby('기업구분')['가중치'].describe()"
   ]
  },
  {
   "attachments": {},
   "cell_type": "markdown",
   "metadata": {},
   "source": [
    "#### 별점 0 제외"
   ]
  },
  {
   "cell_type": "code",
   "execution_count": 13,
   "metadata": {},
   "outputs": [],
   "source": [
    "df_md2 = df_md[df_md['별점'] != 0]"
   ]
  },
  {
   "cell_type": "code",
   "execution_count": 45,
   "metadata": {},
   "outputs": [
    {
     "data": {
      "text/html": [
       "<div>\n",
       "<style scoped>\n",
       "    .dataframe tbody tr th:only-of-type {\n",
       "        vertical-align: middle;\n",
       "    }\n",
       "\n",
       "    .dataframe tbody tr th {\n",
       "        vertical-align: top;\n",
       "    }\n",
       "\n",
       "    .dataframe thead th {\n",
       "        text-align: right;\n",
       "    }\n",
       "</style>\n",
       "<table border=\"1\" class=\"dataframe\">\n",
       "  <thead>\n",
       "    <tr style=\"text-align: right;\">\n",
       "      <th></th>\n",
       "      <th>기업명</th>\n",
       "      <th>기업구분</th>\n",
       "      <th>기업구분코드</th>\n",
       "      <th>사원수</th>\n",
       "      <th>업력</th>\n",
       "      <th>입사율(%)</th>\n",
       "      <th>퇴사율(%)</th>\n",
       "      <th>이직율(%)</th>\n",
       "      <th>별점</th>\n",
       "      <th>가중치</th>\n",
       "      <th>추천</th>\n",
       "    </tr>\n",
       "  </thead>\n",
       "  <tbody>\n",
       "  </tbody>\n",
       "</table>\n",
       "</div>"
      ],
      "text/plain": [
       "Empty DataFrame\n",
       "Columns: [기업명, 기업구분, 기업구분코드, 사원수, 업력, 입사율(%), 퇴사율(%), 이직율(%), 별점, 가중치, 추천]\n",
       "Index: []"
      ]
     },
     "execution_count": 45,
     "metadata": {},
     "output_type": "execute_result"
    }
   ],
   "source": [
    "df_md2[df_md2['별점'] == 0]"
   ]
  },
  {
   "cell_type": "code",
   "execution_count": 14,
   "metadata": {},
   "outputs": [
    {
     "data": {
      "text/html": [
       "<div>\n",
       "<style scoped>\n",
       "    .dataframe tbody tr th:only-of-type {\n",
       "        vertical-align: middle;\n",
       "    }\n",
       "\n",
       "    .dataframe tbody tr th {\n",
       "        vertical-align: top;\n",
       "    }\n",
       "\n",
       "    .dataframe thead th {\n",
       "        text-align: right;\n",
       "    }\n",
       "</style>\n",
       "<table border=\"1\" class=\"dataframe\">\n",
       "  <thead>\n",
       "    <tr style=\"text-align: right;\">\n",
       "      <th></th>\n",
       "      <th>count</th>\n",
       "      <th>mean</th>\n",
       "      <th>std</th>\n",
       "      <th>min</th>\n",
       "      <th>25%</th>\n",
       "      <th>50%</th>\n",
       "      <th>75%</th>\n",
       "      <th>max</th>\n",
       "    </tr>\n",
       "    <tr>\n",
       "      <th>기업구분</th>\n",
       "      <th></th>\n",
       "      <th></th>\n",
       "      <th></th>\n",
       "      <th></th>\n",
       "      <th></th>\n",
       "      <th></th>\n",
       "      <th></th>\n",
       "      <th></th>\n",
       "    </tr>\n",
       "  </thead>\n",
       "  <tbody>\n",
       "    <tr>\n",
       "      <th>기타</th>\n",
       "      <td>18.0</td>\n",
       "      <td>25.611111</td>\n",
       "      <td>3.909098</td>\n",
       "      <td>19.5</td>\n",
       "      <td>22.0</td>\n",
       "      <td>26.5</td>\n",
       "      <td>28.5</td>\n",
       "      <td>30.5</td>\n",
       "    </tr>\n",
       "    <tr>\n",
       "      <th>대기업</th>\n",
       "      <td>11.0</td>\n",
       "      <td>27.409091</td>\n",
       "      <td>3.753786</td>\n",
       "      <td>21.5</td>\n",
       "      <td>24.5</td>\n",
       "      <td>27.5</td>\n",
       "      <td>30.0</td>\n",
       "      <td>33.5</td>\n",
       "    </tr>\n",
       "    <tr>\n",
       "      <th>중견기업</th>\n",
       "      <td>23.0</td>\n",
       "      <td>25.804348</td>\n",
       "      <td>3.308869</td>\n",
       "      <td>18.5</td>\n",
       "      <td>25.0</td>\n",
       "      <td>26.5</td>\n",
       "      <td>27.5</td>\n",
       "      <td>31.5</td>\n",
       "    </tr>\n",
       "    <tr>\n",
       "      <th>중소기업</th>\n",
       "      <td>124.0</td>\n",
       "      <td>21.451613</td>\n",
       "      <td>3.642243</td>\n",
       "      <td>14.5</td>\n",
       "      <td>18.5</td>\n",
       "      <td>21.5</td>\n",
       "      <td>24.5</td>\n",
       "      <td>28.5</td>\n",
       "    </tr>\n",
       "  </tbody>\n",
       "</table>\n",
       "</div>"
      ],
      "text/plain": [
       "      count       mean       std   min   25%   50%   75%   max\n",
       "기업구분                                                          \n",
       "기타     18.0  25.611111  3.909098  19.5  22.0  26.5  28.5  30.5\n",
       "대기업    11.0  27.409091  3.753786  21.5  24.5  27.5  30.0  33.5\n",
       "중견기업   23.0  25.804348  3.308869  18.5  25.0  26.5  27.5  31.5\n",
       "중소기업  124.0  21.451613  3.642243  14.5  18.5  21.5  24.5  28.5"
      ]
     },
     "execution_count": 14,
     "metadata": {},
     "output_type": "execute_result"
    }
   ],
   "source": [
    "df_md2.groupby('기업구분')['가중치'].describe()"
   ]
  },
  {
   "cell_type": "markdown",
   "metadata": {},
   "source": [
    "## 추천여부 설정"
   ]
  },
  {
   "cell_type": "code",
   "execution_count": 15,
   "metadata": {},
   "outputs": [
    {
     "data": {
      "text/html": [
       "<div>\n",
       "<style scoped>\n",
       "    .dataframe tbody tr th:only-of-type {\n",
       "        vertical-align: middle;\n",
       "    }\n",
       "\n",
       "    .dataframe tbody tr th {\n",
       "        vertical-align: top;\n",
       "    }\n",
       "\n",
       "    .dataframe thead th {\n",
       "        text-align: right;\n",
       "    }\n",
       "</style>\n",
       "<table border=\"1\" class=\"dataframe\">\n",
       "  <thead>\n",
       "    <tr style=\"text-align: right;\">\n",
       "      <th></th>\n",
       "      <th>기업명</th>\n",
       "      <th>기업구분</th>\n",
       "      <th>기업구분코드</th>\n",
       "      <th>사원수</th>\n",
       "      <th>업력</th>\n",
       "      <th>입사율(%)</th>\n",
       "      <th>퇴사율(%)</th>\n",
       "      <th>이직율(%)</th>\n",
       "      <th>별점</th>\n",
       "      <th>가중치</th>\n",
       "      <th>추천</th>\n",
       "    </tr>\n",
       "  </thead>\n",
       "  <tbody>\n",
       "    <tr>\n",
       "      <th>0</th>\n",
       "      <td>(주)페이타랩</td>\n",
       "      <td>중소기업</td>\n",
       "      <td>3.0</td>\n",
       "      <td>52</td>\n",
       "      <td>4.0</td>\n",
       "      <td>114.71</td>\n",
       "      <td>64.71</td>\n",
       "      <td>56.41</td>\n",
       "      <td>4.3</td>\n",
       "      <td>15.5</td>\n",
       "      <td>NaN</td>\n",
       "    </tr>\n",
       "    <tr>\n",
       "      <th>1</th>\n",
       "      <td>(주)엠제이플렉스</td>\n",
       "      <td>중소기업</td>\n",
       "      <td>3.0</td>\n",
       "      <td>930</td>\n",
       "      <td>17.0</td>\n",
       "      <td>89.94</td>\n",
       "      <td>97.84</td>\n",
       "      <td>108.78</td>\n",
       "      <td>2.3</td>\n",
       "      <td>28.5</td>\n",
       "      <td>NaN</td>\n",
       "    </tr>\n",
       "    <tr>\n",
       "      <th>2</th>\n",
       "      <td>(주)앰진</td>\n",
       "      <td>중소기업</td>\n",
       "      <td>3.0</td>\n",
       "      <td>20</td>\n",
       "      <td>10.0</td>\n",
       "      <td>40.00</td>\n",
       "      <td>30.00</td>\n",
       "      <td>75.00</td>\n",
       "      <td>3.0</td>\n",
       "      <td>18.5</td>\n",
       "      <td>NaN</td>\n",
       "    </tr>\n",
       "  </tbody>\n",
       "</table>\n",
       "</div>"
      ],
      "text/plain": [
       "         기업명  기업구분  기업구분코드  사원수    업력  입사율(%)  퇴사율(%)  이직율(%)   별점   가중치  추천\n",
       "0    (주)페이타랩  중소기업     3.0   52   4.0  114.71   64.71   56.41  4.3  15.5 NaN\n",
       "1  (주)엠제이플렉스  중소기업     3.0  930  17.0   89.94   97.84  108.78  2.3  28.5 NaN\n",
       "2      (주)앰진  중소기업     3.0   20  10.0   40.00   30.00   75.00  3.0  18.5 NaN"
      ]
     },
     "execution_count": 15,
     "metadata": {},
     "output_type": "execute_result"
    }
   ],
   "source": [
    "df_md2.head(3)"
   ]
  },
  {
   "cell_type": "code",
   "execution_count": 16,
   "metadata": {},
   "outputs": [
    {
     "data": {
      "text/plain": [
       "22.818181818181817"
      ]
     },
     "execution_count": 16,
     "metadata": {},
     "output_type": "execute_result"
    }
   ],
   "source": [
    "df_md2['가중치'].mean()"
   ]
  },
  {
   "cell_type": "code",
   "execution_count": 17,
   "metadata": {},
   "outputs": [
    {
     "data": {
      "text/plain": [
       "15.5"
      ]
     },
     "execution_count": 17,
     "metadata": {},
     "output_type": "execute_result"
    }
   ],
   "source": [
    "df_md2.iloc[0,-2]"
   ]
  },
  {
   "cell_type": "code",
   "execution_count": 18,
   "metadata": {},
   "outputs": [
    {
     "data": {
      "text/plain": [
       "nan"
      ]
     },
     "execution_count": 18,
     "metadata": {},
     "output_type": "execute_result"
    }
   ],
   "source": [
    "df_md2.iloc[0,-1]"
   ]
  },
  {
   "cell_type": "markdown",
   "metadata": {},
   "source": [
    "#### for문 돌리기 전에 인덱스 리셋(별점0점 삭제했으므로)"
   ]
  },
  {
   "cell_type": "code",
   "execution_count": 19,
   "metadata": {},
   "outputs": [],
   "source": [
    "df_md2.reset_index(drop=True, inplace=True)"
   ]
  },
  {
   "cell_type": "code",
   "execution_count": 20,
   "metadata": {},
   "outputs": [
    {
     "name": "stdout",
     "output_type": "stream",
     "text": [
      "<class 'pandas.core.frame.DataFrame'>\n",
      "RangeIndex: 176 entries, 0 to 175\n",
      "Data columns (total 11 columns):\n",
      " #   Column  Non-Null Count  Dtype  \n",
      "---  ------  --------------  -----  \n",
      " 0   기업명     176 non-null    object \n",
      " 1   기업구분    176 non-null    object \n",
      " 2   기업구분코드  176 non-null    float64\n",
      " 3   사원수     176 non-null    int64  \n",
      " 4   업력      176 non-null    float64\n",
      " 5   입사율(%)  176 non-null    float64\n",
      " 6   퇴사율(%)  176 non-null    float64\n",
      " 7   이직율(%)  176 non-null    float64\n",
      " 8   별점      176 non-null    float64\n",
      " 9   가중치     176 non-null    float64\n",
      " 10  추천      0 non-null      float64\n",
      "dtypes: float64(8), int64(1), object(2)\n",
      "memory usage: 15.2+ KB\n"
     ]
    }
   ],
   "source": [
    "df_md2.info()"
   ]
  },
  {
   "attachments": {},
   "cell_type": "markdown",
   "metadata": {},
   "source": [
    "#### 1차 : 가중치 22 이상이면 추천, 그렇지 않으면 비추천"
   ]
  },
  {
   "cell_type": "code",
   "execution_count": 21,
   "metadata": {},
   "outputs": [],
   "source": [
    "for idx, rows in df_md2.iterrows():\n",
    "    if df_md2.iloc[idx,-2] >= 22:\n",
    "        df_md2.iloc[idx,-1] = 1\n",
    "    else:\n",
    "        df_md2.iloc[idx,-1] = 0"
   ]
  },
  {
   "cell_type": "code",
   "execution_count": 22,
   "metadata": {},
   "outputs": [
    {
     "data": {
      "text/html": [
       "<div>\n",
       "<style scoped>\n",
       "    .dataframe tbody tr th:only-of-type {\n",
       "        vertical-align: middle;\n",
       "    }\n",
       "\n",
       "    .dataframe tbody tr th {\n",
       "        vertical-align: top;\n",
       "    }\n",
       "\n",
       "    .dataframe thead th {\n",
       "        text-align: right;\n",
       "    }\n",
       "</style>\n",
       "<table border=\"1\" class=\"dataframe\">\n",
       "  <thead>\n",
       "    <tr style=\"text-align: right;\">\n",
       "      <th></th>\n",
       "      <th>기업명</th>\n",
       "      <th>기업구분</th>\n",
       "      <th>기업구분코드</th>\n",
       "      <th>사원수</th>\n",
       "      <th>업력</th>\n",
       "      <th>입사율(%)</th>\n",
       "      <th>퇴사율(%)</th>\n",
       "      <th>이직율(%)</th>\n",
       "      <th>별점</th>\n",
       "      <th>가중치</th>\n",
       "      <th>추천</th>\n",
       "    </tr>\n",
       "  </thead>\n",
       "  <tbody>\n",
       "    <tr>\n",
       "      <th>0</th>\n",
       "      <td>(주)페이타랩</td>\n",
       "      <td>중소기업</td>\n",
       "      <td>3.0</td>\n",
       "      <td>52</td>\n",
       "      <td>4.0</td>\n",
       "      <td>114.71</td>\n",
       "      <td>64.71</td>\n",
       "      <td>56.41</td>\n",
       "      <td>4.3</td>\n",
       "      <td>15.5</td>\n",
       "      <td>0.0</td>\n",
       "    </tr>\n",
       "    <tr>\n",
       "      <th>1</th>\n",
       "      <td>(주)엠제이플렉스</td>\n",
       "      <td>중소기업</td>\n",
       "      <td>3.0</td>\n",
       "      <td>930</td>\n",
       "      <td>17.0</td>\n",
       "      <td>89.94</td>\n",
       "      <td>97.84</td>\n",
       "      <td>108.78</td>\n",
       "      <td>2.3</td>\n",
       "      <td>28.5</td>\n",
       "      <td>1.0</td>\n",
       "    </tr>\n",
       "    <tr>\n",
       "      <th>2</th>\n",
       "      <td>(주)앰진</td>\n",
       "      <td>중소기업</td>\n",
       "      <td>3.0</td>\n",
       "      <td>20</td>\n",
       "      <td>10.0</td>\n",
       "      <td>40.00</td>\n",
       "      <td>30.00</td>\n",
       "      <td>75.00</td>\n",
       "      <td>3.0</td>\n",
       "      <td>18.5</td>\n",
       "      <td>0.0</td>\n",
       "    </tr>\n",
       "    <tr>\n",
       "      <th>3</th>\n",
       "      <td>(주)헥토이노베이션</td>\n",
       "      <td>중소기업</td>\n",
       "      <td>3.0</td>\n",
       "      <td>140</td>\n",
       "      <td>14.0</td>\n",
       "      <td>120.00</td>\n",
       "      <td>100.00</td>\n",
       "      <td>83.33</td>\n",
       "      <td>3.3</td>\n",
       "      <td>24.5</td>\n",
       "      <td>1.0</td>\n",
       "    </tr>\n",
       "    <tr>\n",
       "      <th>4</th>\n",
       "      <td>(주)세종분석연구원</td>\n",
       "      <td>중소기업</td>\n",
       "      <td>3.0</td>\n",
       "      <td>3</td>\n",
       "      <td>6.0</td>\n",
       "      <td>33.33</td>\n",
       "      <td>0.00</td>\n",
       "      <td>0.00</td>\n",
       "      <td>3.0</td>\n",
       "      <td>14.5</td>\n",
       "      <td>0.0</td>\n",
       "    </tr>\n",
       "    <tr>\n",
       "      <th>...</th>\n",
       "      <td>...</td>\n",
       "      <td>...</td>\n",
       "      <td>...</td>\n",
       "      <td>...</td>\n",
       "      <td>...</td>\n",
       "      <td>...</td>\n",
       "      <td>...</td>\n",
       "      <td>...</td>\n",
       "      <td>...</td>\n",
       "      <td>...</td>\n",
       "      <td>...</td>\n",
       "    </tr>\n",
       "    <tr>\n",
       "      <th>171</th>\n",
       "      <td>(주)유니텍</td>\n",
       "      <td>기타</td>\n",
       "      <td>4.0</td>\n",
       "      <td>36</td>\n",
       "      <td>33.0</td>\n",
       "      <td>8.82</td>\n",
       "      <td>23.53</td>\n",
       "      <td>266.78</td>\n",
       "      <td>2.2</td>\n",
       "      <td>28.5</td>\n",
       "      <td>1.0</td>\n",
       "    </tr>\n",
       "    <tr>\n",
       "      <th>172</th>\n",
       "      <td>(주)우리기술</td>\n",
       "      <td>기타</td>\n",
       "      <td>4.0</td>\n",
       "      <td>115</td>\n",
       "      <td>27.0</td>\n",
       "      <td>8.77</td>\n",
       "      <td>5.26</td>\n",
       "      <td>59.98</td>\n",
       "      <td>2.2</td>\n",
       "      <td>20.5</td>\n",
       "      <td>0.0</td>\n",
       "    </tr>\n",
       "    <tr>\n",
       "      <th>173</th>\n",
       "      <td>한국쓰리엠(주)</td>\n",
       "      <td>기타</td>\n",
       "      <td>4.0</td>\n",
       "      <td>1686</td>\n",
       "      <td>45.0</td>\n",
       "      <td>7.25</td>\n",
       "      <td>8.00</td>\n",
       "      <td>110.34</td>\n",
       "      <td>3.7</td>\n",
       "      <td>30.5</td>\n",
       "      <td>1.0</td>\n",
       "    </tr>\n",
       "    <tr>\n",
       "      <th>174</th>\n",
       "      <td>에스지에이(주)</td>\n",
       "      <td>기타</td>\n",
       "      <td>4.0</td>\n",
       "      <td>193</td>\n",
       "      <td>25.0</td>\n",
       "      <td>80.61</td>\n",
       "      <td>70.92</td>\n",
       "      <td>87.98</td>\n",
       "      <td>2.5</td>\n",
       "      <td>26.5</td>\n",
       "      <td>1.0</td>\n",
       "    </tr>\n",
       "    <tr>\n",
       "      <th>175</th>\n",
       "      <td>주식회사 한국미래에너지</td>\n",
       "      <td>기타</td>\n",
       "      <td>4.0</td>\n",
       "      <td>25</td>\n",
       "      <td>6.0</td>\n",
       "      <td>42.31</td>\n",
       "      <td>84.62</td>\n",
       "      <td>200.00</td>\n",
       "      <td>3.0</td>\n",
       "      <td>24.5</td>\n",
       "      <td>1.0</td>\n",
       "    </tr>\n",
       "  </tbody>\n",
       "</table>\n",
       "<p>176 rows × 11 columns</p>\n",
       "</div>"
      ],
      "text/plain": [
       "              기업명  기업구분  기업구분코드   사원수    업력  입사율(%)  퇴사율(%)  이직율(%)   별점  \\\n",
       "0         (주)페이타랩  중소기업     3.0    52   4.0  114.71   64.71   56.41  4.3   \n",
       "1       (주)엠제이플렉스  중소기업     3.0   930  17.0   89.94   97.84  108.78  2.3   \n",
       "2           (주)앰진  중소기업     3.0    20  10.0   40.00   30.00   75.00  3.0   \n",
       "3      (주)헥토이노베이션  중소기업     3.0   140  14.0  120.00  100.00   83.33  3.3   \n",
       "4      (주)세종분석연구원  중소기업     3.0     3   6.0   33.33    0.00    0.00  3.0   \n",
       "..            ...   ...     ...   ...   ...     ...     ...     ...  ...   \n",
       "171        (주)유니텍    기타     4.0    36  33.0    8.82   23.53  266.78  2.2   \n",
       "172       (주)우리기술    기타     4.0   115  27.0    8.77    5.26   59.98  2.2   \n",
       "173      한국쓰리엠(주)    기타     4.0  1686  45.0    7.25    8.00  110.34  3.7   \n",
       "174      에스지에이(주)    기타     4.0   193  25.0   80.61   70.92   87.98  2.5   \n",
       "175  주식회사 한국미래에너지    기타     4.0    25   6.0   42.31   84.62  200.00  3.0   \n",
       "\n",
       "      가중치   추천  \n",
       "0    15.5  0.0  \n",
       "1    28.5  1.0  \n",
       "2    18.5  0.0  \n",
       "3    24.5  1.0  \n",
       "4    14.5  0.0  \n",
       "..    ...  ...  \n",
       "171  28.5  1.0  \n",
       "172  20.5  0.0  \n",
       "173  30.5  1.0  \n",
       "174  26.5  1.0  \n",
       "175  24.5  1.0  \n",
       "\n",
       "[176 rows x 11 columns]"
      ]
     },
     "execution_count": 22,
     "metadata": {},
     "output_type": "execute_result"
    }
   ],
   "source": [
    "df_md2"
   ]
  },
  {
   "cell_type": "code",
   "execution_count": 23,
   "metadata": {},
   "outputs": [
    {
     "data": {
      "text/plain": [
       "기업구분\n",
       "기타       18\n",
       "대기업      11\n",
       "중견기업     23\n",
       "중소기업    124\n",
       "Name: 추천, dtype: int64"
      ]
     },
     "execution_count": 23,
     "metadata": {},
     "output_type": "execute_result"
    }
   ],
   "source": [
    "df_md2.groupby('기업구분')['추천'].count()"
   ]
  },
  {
   "cell_type": "code",
   "execution_count": 24,
   "metadata": {},
   "outputs": [
    {
     "data": {
      "text/plain": [
       "기업구분\n",
       "기타      13.0\n",
       "대기업     10.0\n",
       "중견기업    20.0\n",
       "중소기업    57.0\n",
       "Name: 추천, dtype: float64"
      ]
     },
     "execution_count": 24,
     "metadata": {},
     "output_type": "execute_result"
    }
   ],
   "source": [
    "df_md2.groupby('기업구분')['추천'].sum()"
   ]
  },
  {
   "attachments": {},
   "cell_type": "markdown",
   "metadata": {},
   "source": [
    "#### 2차 : 가중치 23 이상이면 추천, 그렇지 않으면 비추천"
   ]
  },
  {
   "cell_type": "code",
   "execution_count": 25,
   "metadata": {},
   "outputs": [],
   "source": [
    "for idx, rows in df_md2.iterrows():\n",
    "    if df_md2.iloc[idx,-2] >= 23:\n",
    "        df_md2.iloc[idx,-1] = 1\n",
    "    else:\n",
    "        df_md2.iloc[idx,-1] = 0"
   ]
  },
  {
   "cell_type": "code",
   "execution_count": 26,
   "metadata": {},
   "outputs": [
    {
     "data": {
      "text/plain": [
       "기업구분\n",
       "기타      13.0\n",
       "대기업      9.0\n",
       "중견기업    19.0\n",
       "중소기업    47.0\n",
       "Name: 추천, dtype: float64"
      ]
     },
     "execution_count": 26,
     "metadata": {},
     "output_type": "execute_result"
    }
   ],
   "source": [
    "df_md2.groupby('기업구분')['추천'].sum()"
   ]
  },
  {
   "attachments": {},
   "cell_type": "markdown",
   "metadata": {},
   "source": [
    "- ==> 기타 18 -> 13, 대기업 11 -> 9\n",
    "- ==> 중견 23 -> 19, 중소 124 -> 47"
   ]
  },
  {
   "cell_type": "markdown",
   "metadata": {},
   "source": [
    "#### 사원수 int --> float 형변환"
   ]
  },
  {
   "cell_type": "code",
   "execution_count": 27,
   "metadata": {},
   "outputs": [
    {
     "name": "stdout",
     "output_type": "stream",
     "text": [
      "<class 'pandas.core.frame.DataFrame'>\n",
      "RangeIndex: 176 entries, 0 to 175\n",
      "Data columns (total 11 columns):\n",
      " #   Column  Non-Null Count  Dtype  \n",
      "---  ------  --------------  -----  \n",
      " 0   기업명     176 non-null    object \n",
      " 1   기업구분    176 non-null    object \n",
      " 2   기업구분코드  176 non-null    float64\n",
      " 3   사원수     176 non-null    float64\n",
      " 4   업력      176 non-null    float64\n",
      " 5   입사율(%)  176 non-null    float64\n",
      " 6   퇴사율(%)  176 non-null    float64\n",
      " 7   이직율(%)  176 non-null    float64\n",
      " 8   별점      176 non-null    float64\n",
      " 9   가중치     176 non-null    float64\n",
      " 10  추천      176 non-null    float64\n",
      "dtypes: float64(9), object(2)\n",
      "memory usage: 15.2+ KB\n"
     ]
    }
   ],
   "source": [
    "df_md2 = df_md2.astype({ '사원수' : 'float' })\n",
    "df_md2.info()"
   ]
  },
  {
   "attachments": {},
   "cell_type": "markdown",
   "metadata": {},
   "source": [
    "## 모델링\n",
    "- 로버스트 스케일링 적용 or 적용하지 않은 결과 비교"
   ]
  },
  {
   "cell_type": "code",
   "execution_count": 28,
   "metadata": {},
   "outputs": [
    {
     "name": "stderr",
     "output_type": "stream",
     "text": [
      "c:\\anaconda\\envs\\ds_study\\lib\\site-packages\\xgboost\\compat.py:36: FutureWarning: pandas.Int64Index is deprecated and will be removed from pandas in a future version. Use pandas.Index with the appropriate dtype instead.\n",
      "  from pandas import MultiIndex, Int64Index\n"
     ]
    }
   ],
   "source": [
    "from sklearn.model_selection import train_test_split\n",
    "from sklearn.tree import DecisionTreeClassifier, plot_tree    # 결정트리\n",
    "from sklearn.ensemble import RandomForestClassifier           # 랜덤포레스트\n",
    "from sklearn.linear_model import LogisticRegression           # 로지스틱 회귀\n",
    "from xgboost import XGBClassifier                             # XGBoost\n",
    "from sklearn.pipeline import Pipeline            \n",
    "from sklearn.preprocessing import RobustScaler    # 로버스트 스케일러(이상치 영향 가장 적음)\n",
    "from sklearn.metrics import accuracy_score"
   ]
  },
  {
   "cell_type": "markdown",
   "metadata": {},
   "source": [
    "#### 1. 스케일러 적용 없이"
   ]
  },
  {
   "cell_type": "code",
   "execution_count": 29,
   "metadata": {},
   "outputs": [
    {
     "data": {
      "text/html": [
       "<div>\n",
       "<style scoped>\n",
       "    .dataframe tbody tr th:only-of-type {\n",
       "        vertical-align: middle;\n",
       "    }\n",
       "\n",
       "    .dataframe tbody tr th {\n",
       "        vertical-align: top;\n",
       "    }\n",
       "\n",
       "    .dataframe thead th {\n",
       "        text-align: right;\n",
       "    }\n",
       "</style>\n",
       "<table border=\"1\" class=\"dataframe\">\n",
       "  <thead>\n",
       "    <tr style=\"text-align: right;\">\n",
       "      <th></th>\n",
       "      <th>기업명</th>\n",
       "      <th>기업구분</th>\n",
       "      <th>기업구분코드</th>\n",
       "      <th>사원수</th>\n",
       "      <th>업력</th>\n",
       "      <th>입사율(%)</th>\n",
       "      <th>퇴사율(%)</th>\n",
       "      <th>이직율(%)</th>\n",
       "      <th>별점</th>\n",
       "      <th>가중치</th>\n",
       "      <th>추천</th>\n",
       "    </tr>\n",
       "  </thead>\n",
       "  <tbody>\n",
       "    <tr>\n",
       "      <th>0</th>\n",
       "      <td>(주)페이타랩</td>\n",
       "      <td>중소기업</td>\n",
       "      <td>3.0</td>\n",
       "      <td>52.0</td>\n",
       "      <td>4.0</td>\n",
       "      <td>114.71</td>\n",
       "      <td>64.71</td>\n",
       "      <td>56.41</td>\n",
       "      <td>4.3</td>\n",
       "      <td>15.5</td>\n",
       "      <td>0.0</td>\n",
       "    </tr>\n",
       "    <tr>\n",
       "      <th>1</th>\n",
       "      <td>(주)엠제이플렉스</td>\n",
       "      <td>중소기업</td>\n",
       "      <td>3.0</td>\n",
       "      <td>930.0</td>\n",
       "      <td>17.0</td>\n",
       "      <td>89.94</td>\n",
       "      <td>97.84</td>\n",
       "      <td>108.78</td>\n",
       "      <td>2.3</td>\n",
       "      <td>28.5</td>\n",
       "      <td>1.0</td>\n",
       "    </tr>\n",
       "  </tbody>\n",
       "</table>\n",
       "</div>"
      ],
      "text/plain": [
       "         기업명  기업구분  기업구분코드    사원수    업력  입사율(%)  퇴사율(%)  이직율(%)   별점   가중치  \\\n",
       "0    (주)페이타랩  중소기업     3.0   52.0   4.0  114.71   64.71   56.41  4.3  15.5   \n",
       "1  (주)엠제이플렉스  중소기업     3.0  930.0  17.0   89.94   97.84  108.78  2.3  28.5   \n",
       "\n",
       "    추천  \n",
       "0  0.0  \n",
       "1  1.0  "
      ]
     },
     "execution_count": 29,
     "metadata": {},
     "output_type": "execute_result"
    }
   ],
   "source": [
    "df_md2.head(2)"
   ]
  },
  {
   "cell_type": "code",
   "execution_count": 30,
   "metadata": {},
   "outputs": [
    {
     "data": {
      "text/plain": [
       "(array([0., 1.]), array([18, 18], dtype=int64))"
      ]
     },
     "execution_count": 30,
     "metadata": {},
     "output_type": "execute_result"
    }
   ],
   "source": [
    "X = df_md2.iloc[:,2:-2]\n",
    "y = df_md2.iloc[:,-1]\n",
    "\n",
    "X_train, X_test, y_train, y_test = train_test_split(X,y, test_size=0.2, random_state=13, stratify=y)\n",
    "\n",
    "np.unique(y_test, return_counts=True)"
   ]
  },
  {
   "cell_type": "code",
   "execution_count": 31,
   "metadata": {},
   "outputs": [],
   "source": [
    "import warnings\n",
    " \n",
    "warnings.filterwarnings(action='ignore')"
   ]
  },
  {
   "cell_type": "code",
   "execution_count": 32,
   "metadata": {},
   "outputs": [],
   "source": [
    "models = []\n",
    "models.append(('DecisionTreeClassifier', DecisionTreeClassifier()))\n",
    "models.append(('RandomForestClassifier', RandomForestClassifier()))\n",
    "models.append(('LogisticRegression', LogisticRegression()))\n",
    "models.append(('XGBClassifier', XGBClassifier()))"
   ]
  },
  {
   "cell_type": "code",
   "execution_count": 33,
   "metadata": {},
   "outputs": [
    {
     "name": "stdout",
     "output_type": "stream",
     "text": [
      "DecisionTreeClassifier 0.85 0.07626484465736652\n",
      "RandomForestClassifier 0.9071428571428571 0.048445214165180515\n",
      "LogisticRegression 0.9285714285714286 0.0391230398217976\n",
      "[10:05:46] WARNING: C:\\Windows\\Temp\\abs_557yfx631l\\croots\\recipe\\xgboost-split_1659548953302\\work\\src\\learner.cc:1115: Starting in XGBoost 1.3.0, the default evaluation metric used with the objective 'binary:logistic' was changed from 'error' to 'logloss'. Explicitly set eval_metric if you'd like to restore the old behavior.\n",
      "[10:05:47] WARNING: C:\\Windows\\Temp\\abs_557yfx631l\\croots\\recipe\\xgboost-split_1659548953302\\work\\src\\learner.cc:1115: Starting in XGBoost 1.3.0, the default evaluation metric used with the objective 'binary:logistic' was changed from 'error' to 'logloss'. Explicitly set eval_metric if you'd like to restore the old behavior.\n",
      "[10:05:47] WARNING: C:\\Windows\\Temp\\abs_557yfx631l\\croots\\recipe\\xgboost-split_1659548953302\\work\\src\\learner.cc:1115: Starting in XGBoost 1.3.0, the default evaluation metric used with the objective 'binary:logistic' was changed from 'error' to 'logloss'. Explicitly set eval_metric if you'd like to restore the old behavior.\n",
      "[10:05:47] WARNING: C:\\Windows\\Temp\\abs_557yfx631l\\croots\\recipe\\xgboost-split_1659548953302\\work\\src\\learner.cc:1115: Starting in XGBoost 1.3.0, the default evaluation metric used with the objective 'binary:logistic' was changed from 'error' to 'logloss'. Explicitly set eval_metric if you'd like to restore the old behavior.\n",
      "[10:05:47] WARNING: C:\\Windows\\Temp\\abs_557yfx631l\\croots\\recipe\\xgboost-split_1659548953302\\work\\src\\learner.cc:1115: Starting in XGBoost 1.3.0, the default evaluation metric used with the objective 'binary:logistic' was changed from 'error' to 'logloss'. Explicitly set eval_metric if you'd like to restore the old behavior.\n",
      "XGBClassifier 0.9642857142857142 0.03912303982179756\n"
     ]
    }
   ],
   "source": [
    "from sklearn.model_selection import KFold, cross_val_score\n",
    "\n",
    "results = []\n",
    "names = []\n",
    "\n",
    "for name, model in models:\n",
    "    kfold = KFold(n_splits=5, random_state=13, shuffle=True)   # shuffle : 데이터 나누기 전에 섞기\n",
    "    cv_results = cross_val_score(model, X_train, y_train, cv=kfold, scoring='accuracy')\n",
    "    results.append(cv_results)  # 검증 결과 점수\n",
    "    names.append(name)\n",
    "    \n",
    "    # 성능\n",
    "    print(name, cv_results.mean(), cv_results.std())"
   ]
  },
  {
   "attachments": {},
   "cell_type": "markdown",
   "metadata": {},
   "source": [
    "#### 결과를 그래프로 확인"
   ]
  },
  {
   "cell_type": "code",
   "execution_count": 34,
   "metadata": {},
   "outputs": [
    {
     "data": {
      "image/png": "[encoded data removed]",
      "text/plain": [
       "<Figure size 1000x500 with 1 Axes>"
      ]
     },
     "metadata": {},
     "output_type": "display_data"
    }
   ],
   "source": [
    "fig = plt.figure(figsize=(10,5))\n",
    "fig.suptitle('Algorithm Comparsion')\n",
    "ax = fig.add_subplot(111)\n",
    "plt.boxplot(results)\n",
    "ax.set_xticklabels(names)\n",
    "plt.show()"
   ]
  },
  {
   "cell_type": "markdown",
   "metadata": {},
   "source": [
    "- 일단 보이는대로는 XGB, 로지스틱, 랜덤포레스트 순으로 유리해 보인다."
   ]
  },
  {
   "cell_type": "markdown",
   "metadata": {},
   "source": [
    "- XBG와 로지스틱을 사용해 보자"
   ]
  },
  {
   "attachments": {},
   "cell_type": "markdown",
   "metadata": {},
   "source": [
    "### XGBoost"
   ]
  },
  {
   "cell_type": "code",
   "execution_count": 35,
   "metadata": {},
   "outputs": [
    {
     "name": "stdout",
     "output_type": "stream",
     "text": [
      "Train ACC :  1.0\n",
      "Test ACC :  0.9444444444444444\n"
     ]
    }
   ],
   "source": [
    "xgb = XGBClassifier(eval_metric='mlogloss', n_estimators=400, learning_rate=0.3, max_depth=3)\n",
    "xgb.fit(X_train.values, y_train)\n",
    "\n",
    "print('Train ACC : ', accuracy_score(y_train, xgb.predict(X_train.values)))\n",
    "print('Test ACC : ', accuracy_score(y_test, xgb.predict(X_test.values)))"
   ]
  },
  {
   "cell_type": "markdown",
   "metadata": {},
   "source": [
    "### 로지스틱 회귀"
   ]
  },
  {
   "cell_type": "code",
   "execution_count": 36,
   "metadata": {},
   "outputs": [
    {
     "name": "stdout",
     "output_type": "stream",
     "text": [
      "Train ACC :  0.9428571428571428\n",
      "Test ACC :  1.0\n"
     ]
    }
   ],
   "source": [
    "lr = LogisticRegression(solver='liblinear', random_state=13)\n",
    "lr.fit(X_train, y_train)\n",
    "\n",
    "y_pred_tr = lr.predict(X_train)\n",
    "y_pred = lr.predict(X_test)\n",
    "\n",
    "print('Train ACC : ', accuracy_score(y_train, y_pred_tr)) \n",
    "print('Test ACC : ', accuracy_score(y_pred, y_pred))"
   ]
  },
  {
   "attachments": {},
   "cell_type": "markdown",
   "metadata": {},
   "source": [
    "#### 2. 스케일러 적용 - RobustScaler"
   ]
  },
  {
   "cell_type": "markdown",
   "metadata": {},
   "source": [
    "#### 로지스틱"
   ]
  },
  {
   "cell_type": "code",
   "execution_count": 40,
   "metadata": {},
   "outputs": [],
   "source": [
    "estimators = [('scaler', RobustScaler()), ('clf', LogisticRegression())]\n",
    "pipe = Pipeline(estimators)"
   ]
  },
  {
   "cell_type": "code",
   "execution_count": 41,
   "metadata": {},
   "outputs": [
    {
     "data": {
      "text/html": [
       "<style>#sk-container-id-1 {color: black;background-color: white;}#sk-container-id-1 pre{padding: 0;}#sk-container-id-1 div.sk-toggleable {background-color: white;}#sk-container-id-1 label.sk-toggleable__label {cursor: pointer;display: block;width: 100%;margin-bottom: 0;padding: 0.3em;box-sizing: border-box;text-align: center;}#sk-container-id-1 label.sk-toggleable__label-arrow:before {content: \"▸\";float: left;margin-right: 0.25em;color: #696969;}#sk-container-id-1 label.sk-toggleable__label-arrow:hover:before {color: black;}#sk-container-id-1 div.sk-estimator:hover label.sk-toggleable__label-arrow:before {color: black;}#sk-container-id-1 div.sk-toggleable__content {max-height: 0;max-width: 0;overflow: hidden;text-align: left;background-color: #f0f8ff;}#sk-container-id-1 div.sk-toggleable__content pre {margin: 0.2em;color: black;border-radius: 0.25em;background-color: #f0f8ff;}#sk-container-id-1 input.sk-toggleable__control:checked~div.sk-toggleable__content {max-height: 200px;max-width: 100%;overflow: auto;}#sk-container-id-1 input.sk-toggleable__control:checked~label.sk-toggleable__label-arrow:before {content: \"▾\";}#sk-container-id-1 div.sk-estimator input.sk-toggleable__control:checked~label.sk-toggleable__label {background-color: #d4ebff;}#sk-container-id-1 div.sk-label input.sk-toggleable__control:checked~label.sk-toggleable__label {background-color: #d4ebff;}#sk-container-id-1 input.sk-hidden--visually {border: 0;clip: rect(1px 1px 1px 1px);clip: rect(1px, 1px, 1px, 1px);height: 1px;margin: -1px;overflow: hidden;padding: 0;position: absolute;width: 1px;}#sk-container-id-1 div.sk-estimator {font-family: monospace;background-color: #f0f8ff;border: 1px dotted black;border-radius: 0.25em;box-sizing: border-box;margin-bottom: 0.5em;}#sk-container-id-1 div.sk-estimator:hover {background-color: #d4ebff;}#sk-container-id-1 div.sk-parallel-item::after {content: \"\";width: 100%;border-bottom: 1px solid gray;flex-grow: 1;}#sk-container-id-1 div.sk-label:hover label.sk-toggleable__label {background-color: #d4ebff;}#sk-container-id-1 div.sk-serial::before {content: \"\";position: absolute;border-left: 1px solid gray;box-sizing: border-box;top: 0;bottom: 0;left: 50%;z-index: 0;}#sk-container-id-1 div.sk-serial {display: flex;flex-direction: column;align-items: center;background-color: white;padding-right: 0.2em;padding-left: 0.2em;position: relative;}#sk-container-id-1 div.sk-item {position: relative;z-index: 1;}#sk-container-id-1 div.sk-parallel {display: flex;align-items: stretch;justify-content: center;background-color: white;position: relative;}#sk-container-id-1 div.sk-item::before, #sk-container-id-1 div.sk-parallel-item::before {content: \"\";position: absolute;border-left: 1px solid gray;box-sizing: border-box;top: 0;bottom: 0;left: 50%;z-index: -1;}#sk-container-id-1 div.sk-parallel-item {display: flex;flex-direction: column;z-index: 1;position: relative;background-color: white;}#sk-container-id-1 div.sk-parallel-item:first-child::after {align-self: flex-end;width: 50%;}#sk-container-id-1 div.sk-parallel-item:last-child::after {align-self: flex-start;width: 50%;}#sk-container-id-1 div.sk-parallel-item:only-child::after {width: 0;}#sk-container-id-1 div.sk-dashed-wrapped {border: 1px dashed gray;margin: 0 0.4em 0.5em 0.4em;box-sizing: border-box;padding-bottom: 0.4em;background-color: white;}#sk-container-id-1 div.sk-label label {font-family: monospace;font-weight: bold;display: inline-block;line-height: 1.2em;}#sk-container-id-1 div.sk-label-container {text-align: center;}#sk-container-id-1 div.sk-container {/* jupyter's `normalize.less` sets `[hidden] { display: none; }` but bootstrap.min.css set `[hidden] { display: none !important; }` so we also need the `!important` here to be able to override the default hidden behavior on the sphinx rendered scikit-learn.org. See: https://github.com/scikit-learn/scikit-learn/issues/21755 */display: inline-block !important;position: relative;}#sk-container-id-1 div.sk-text-repr-fallback {display: none;}</style><div id=\"sk-container-id-1\" class=\"sk-top-container\"><div class=\"sk-text-repr-fallback\"><pre>Pipeline(steps=[(&#x27;scaler&#x27;, RobustScaler()), (&#x27;clf&#x27;, LogisticRegression())])</pre><b>In a Jupyter environment, please rerun this cell to show the HTML representation or trust the notebook. <br />On GitHub, the HTML representation is unable to render, please try loading this page with nbviewer.org.</b></div><div class=\"sk-container\" hidden><div class=\"sk-item sk-dashed-wrapped\"><div class=\"sk-label-container\"><div class=\"sk-label sk-toggleable\"><input class=\"sk-toggleable__control sk-hidden--visually\" id=\"sk-estimator-id-1\" type=\"checkbox\" ><label for=\"sk-estimator-id-1\" class=\"sk-toggleable__label sk-toggleable__label-arrow\">Pipeline</label><div class=\"sk-toggleable__content\"><pre>Pipeline(steps=[(&#x27;scaler&#x27;, RobustScaler()), (&#x27;clf&#x27;, LogisticRegression())])</pre></div></div></div><div class=\"sk-serial\"><div class=\"sk-item\"><div class=\"sk-estimator sk-toggleable\"><input class=\"sk-toggleable__control sk-hidden--visually\" id=\"sk-estimator-id-2\" type=\"checkbox\" ><label for=\"sk-estimator-id-2\" class=\"sk-toggleable__label sk-toggleable__label-arrow\">RobustScaler</label><div class=\"sk-toggleable__content\"><pre>RobustScaler()</pre></div></div></div><div class=\"sk-item\"><div class=\"sk-estimator sk-toggleable\"><input class=\"sk-toggleable__control sk-hidden--visually\" id=\"sk-estimator-id-3\" type=\"checkbox\" ><label for=\"sk-estimator-id-3\" class=\"sk-toggleable__label sk-toggleable__label-arrow\">LogisticRegression</label><div class=\"sk-toggleable__content\"><pre>LogisticRegression()</pre></div></div></div></div></div></div></div>"
      ],
      "text/plain": [
       "Pipeline(steps=[('scaler', RobustScaler()), ('clf', LogisticRegression())])"
      ]
     },
     "execution_count": 41,
     "metadata": {},
     "output_type": "execute_result"
    }
   ],
   "source": [
    "pipe.fit(X_train, y_train)"
   ]
  },
  {
   "cell_type": "code",
   "execution_count": 43,
   "metadata": {},
   "outputs": [
    {
     "name": "stdout",
     "output_type": "stream",
     "text": [
      "Train ACC :  0.9571428571428572\n",
      "Test ACC :  1.0\n"
     ]
    }
   ],
   "source": [
    "y_pred_tr = pipe.predict(X_train)\n",
    "y_pred = pipe.predict(X_test)\n",
    "\n",
    "print('Train ACC : ', accuracy_score(y_train, y_pred_tr)) \n",
    "print('Test ACC : ', accuracy_score(y_pred, y_pred))"
   ]
  },
  {
   "cell_type": "markdown",
   "metadata": {},
   "source": [
    "#### GMBoost"
   ]
  },
  {
   "cell_type": "code",
   "execution_count": 44,
   "metadata": {},
   "outputs": [
    {
     "name": "stdout",
     "output_type": "stream",
     "text": [
      "[14:38:18] WARNING: C:\\Windows\\Temp\\abs_557yfx631l\\croots\\recipe\\xgboost-split_1659548953302\\work\\src\\learner.cc:1115: Starting in XGBoost 1.3.0, the default evaluation metric used with the objective 'binary:logistic' was changed from 'error' to 'logloss'. Explicitly set eval_metric if you'd like to restore the old behavior.\n",
      "Train ACC :  1.0\n",
      "Test ACC :  1.0\n"
     ]
    }
   ],
   "source": [
    "estimators = [('scaler', RobustScaler()), ('clf', XGBClassifier())]\n",
    "pipe = Pipeline(estimators)\n",
    "pipe.fit(X_train, y_train)\n",
    "\n",
    "y_pred_tr = pipe.predict(X_train)\n",
    "y_pred = pipe.predict(X_test)\n",
    "\n",
    "print('Train ACC : ', accuracy_score(y_train, y_pred_tr)) \n",
    "print('Test ACC : ', accuracy_score(y_pred, y_pred))"
   ]
  },
  {
   "cell_type": "code",
   "execution_count": null,
   "metadata": {},
   "outputs": [],
   "source": []
  },
  {
   "cell_type": "code",
   "execution_count": null,
   "metadata": {},
   "outputs": [],
   "source": []
  },
  {
   "cell_type": "code",
   "execution_count": null,
   "metadata": {},
   "outputs": [],
   "source": []
  },
  {
   "cell_type": "code",
   "execution_count": null,
   "metadata": {},
   "outputs": [],
   "source": []
  },
  {
   "cell_type": "code",
   "execution_count": 37,
   "metadata": {},
   "outputs": [],
   "source": [
    "from sklearn.neighbors import KNeighborsClassifier\n",
    "from sklearn.metrics import roc_auc_score\n",
    "\n",
    "# train score, test score, roc_auc_score \n",
    "def get_scores(model, xtrain, xtest, ytrain, ytest):\n",
    "    A = model.score(xtrain, ytrain)\n",
    "    B = model.score(xtest, ytest)\n",
    "    ypred = model.predict(xtest)\n",
    "    C = roc_auc_score(ytest, ypred)  \n",
    "    return '{:.4f} {:.4f} {:.4f}'.format(A, B, C)\n",
    "# 모델선택 \n",
    "def make_models(xtrain, xtest, ytrain, ytest):\n",
    "    model1 = LogisticRegression(max_iter=1000).fit(xtrain, ytrain)\n",
    "    print('model1', get_scores(model1, xtrain, xtest, ytrain, ytest))\n",
    "    for k in range(1, 10):\n",
    "        model2 = KNeighborsClassifier(k).fit(xtrain, ytrain)\n",
    "        print('model2', k, get_scores(model2, xtrain, xtest, ytrain, ytest))\n",
    "\n",
    "    # overfitting\n",
    "    model3 = DecisionTreeClassifier(random_state=0).fit(xtrain, ytrain)\n",
    "    print('model3', get_scores(model3, xtrain, xtest, ytrain, ytest))\n",
    "\n",
    "    # overfitting 해결\n",
    "    for d in range(3, 8):\n",
    "        model3 = DecisionTreeClassifier(max_depth=d,random_state=0).fit(xtrain, ytrain)\n",
    "        print('model3', d, get_scores(model3, xtrain, xtest, ytrain, ytest))\n",
    "\n",
    "    # overfitting\n",
    "    model4 = RandomForestClassifier(random_state=0).fit(xtrain, ytrain)\n",
    "    print('model4', get_scores(model4, xtrain, xtest, ytrain, ytest))\n",
    "\n",
    "    # overfitting 해결\n",
    "    for d in range(3, 8):\n",
    "        model4 = RandomForestClassifier(500, max_depth=d, random_state=0).fit(xtrain, ytrain)\n",
    "        print('model4', d, get_scores(model4, xtrain, xtest, ytrain, ytest))\n",
    "\n",
    "    model5 = XGBClassifier(eval_metric='logloss', use_label_encoder=False).fit(xtrain, ytrain)\n",
    "    print('model5', get_scores(model5, xtrain, xtest, ytrain, ytest))"
   ]
  },
  {
   "cell_type": "markdown",
   "metadata": {},
   "source": [
    "#### 성능평가"
   ]
  },
  {
   "cell_type": "code",
   "execution_count": 38,
   "metadata": {},
   "outputs": [],
   "source": [
    "def get_other_scores(model, xtest, ytest):\n",
    "    y_pred = model.predict(xtest)\n",
    "    accuracy = accuracy_score(ytest, y_pred)\n",
    "    precision = precision_score(ytest, y_pred)\n",
    "    recall = recall_score(ytest, y_pred)\n",
    "    f1 = f1_score(ytest, y_pred)\n",
    "    print(f'accuracy  : {accuracy:.4f}')\n",
    "    print(f'precision : {precision:.4f}')\n",
    "    print(f'recall    : {recall:.4f}')\n",
    "    print(f'f1        : {f1:.4f}')"
   ]
  },
  {
   "cell_type": "code",
   "execution_count": 39,
   "metadata": {},
   "outputs": [
    {
     "name": "stdout",
     "output_type": "stream",
     "text": [
      "model1 0.9643 0.9444 0.9444\n",
      "model2 1 1.0000 0.9722 0.9722\n",
      "model2 2 0.9286 0.8611 0.8611\n",
      "model2 3 0.9429 0.9167 0.9167\n",
      "model2 4 0.9143 0.8889 0.8889\n",
      "model2 5 0.9429 0.9444 0.9444\n",
      "model2 6 0.9143 0.9167 0.9167\n",
      "model2 7 0.9214 0.9167 0.9167\n",
      "model2 8 0.9071 0.8889 0.8889\n",
      "model2 9 0.8929 0.9444 0.9444\n",
      "model3 1.0000 0.8611 0.8611\n",
      "model3 3 0.9643 0.8611 0.8611\n",
      "model3 4 0.9714 0.8611 0.8611\n",
      "model3 5 0.9929 0.8611 0.8611\n",
      "model3 6 1.0000 0.8611 0.8611\n",
      "model3 7 1.0000 0.8611 0.8611\n",
      "model4 1.0000 1.0000 1.0000\n",
      "model4 3 0.9857 0.9722 0.9722\n",
      "model4 4 1.0000 0.9722 0.9722\n",
      "model4 5 1.0000 0.9722 0.9722\n",
      "model4 6 1.0000 0.9722 0.9722\n",
      "model4 7 1.0000 0.9722 0.9722\n",
      "model5 1.0000 0.9444 0.9444\n"
     ]
    }
   ],
   "source": [
    "make_models(X_train,X_test,y_train,y_test)"
   ]
  }
 ],
 "metadata": {
  "kernelspec": {
   "display_name": "ds_study",
   "language": "python",
   "name": "ds_study"
  },
  "language_info": {
   "codemirror_mode": {
    "name": "ipython",
    "version": 3
   },
   "file_extension": ".py",
   "mimetype": "text/x-python",
   "name": "python",
   "nbconvert_exporter": "python",
   "pygments_lexer": "ipython3",
   "version": "3.8.13"
  },
  "orig_nbformat": 4,
  "vscode": {
   "interpreter": {
    "hash": "c2487ffce51e14206c4ccd24aa53555c5e54d8b5872d9465750eafdf06d06e9e"
   }
  }
 },
 "nbformat": 4,
 "nbformat_minor": 2
}
