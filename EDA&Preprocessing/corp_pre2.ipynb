{
 "cells": [
  {
   "cell_type": "markdown",
   "metadata": {},
   "source": [
    "# 머신러닝 프로젝트 3조\n",
    "## 12/28"
   ]
  },
  {
   "cell_type": "code",
   "execution_count": 3,
   "metadata": {},
   "outputs": [],
   "source": [
    "import pandas as pd\n",
    "import numpy as np"
   ]
  },
  {
   "cell_type": "code",
   "execution_count": 4,
   "metadata": {},
   "outputs": [
    {
     "data": {
      "text/html": [
       "<div>\n",
       "<style scoped>\n",
       "    .dataframe tbody tr th:only-of-type {\n",
       "        vertical-align: middle;\n",
       "    }\n",
       "\n",
       "    .dataframe tbody tr th {\n",
       "        vertical-align: top;\n",
       "    }\n",
       "\n",
       "    .dataframe thead th {\n",
       "        text-align: right;\n",
       "    }\n",
       "</style>\n",
       "<table border=\"1\" class=\"dataframe\">\n",
       "  <thead>\n",
       "    <tr style=\"text-align: right;\">\n",
       "      <th></th>\n",
       "      <th>Unnamed: 0</th>\n",
       "      <th>기업명</th>\n",
       "      <th>기업구분2</th>\n",
       "      <th>기업구분</th>\n",
       "      <th>사원수2</th>\n",
       "      <th>사원수</th>\n",
       "      <th>설립일(업력)</th>\n",
       "      <th>홈페이지</th>\n",
       "      <th>지역</th>\n",
       "      <th>별점</th>\n",
       "      <th>입사율</th>\n",
       "      <th>퇴사율</th>\n",
       "    </tr>\n",
       "  </thead>\n",
       "  <tbody>\n",
       "    <tr>\n",
       "      <th>0</th>\n",
       "      <td>1</td>\n",
       "      <td>(주)페이타랩</td>\n",
       "      <td>중소기업</td>\n",
       "      <td>중소기업, 스타트업, 주식회사, 병역특례..</td>\n",
       "      <td>52</td>\n",
       "      <td>52 명  (2022년 기준)</td>\n",
       "      <td>2018년 2월 28일 (업력 4년)</td>\n",
       "      <td>passorder.co.kr</td>\n",
       "      <td>부산 부산진구</td>\n",
       "      <td>4.3</td>\n",
       "      <td>114.71 % (39 명)</td>\n",
       "      <td>64.71 % (22 명)</td>\n",
       "    </tr>\n",
       "    <tr>\n",
       "      <th>1</th>\n",
       "      <td>3</td>\n",
       "      <td>(주)엠제이플렉스</td>\n",
       "      <td>중소기업</td>\n",
       "      <td>중소기업, 스타트업, 외부감사법인, 주식..</td>\n",
       "      <td>930</td>\n",
       "      <td>930 명  (2022년 기준)</td>\n",
       "      <td>2005년 3월 24일 (업력 17년)</td>\n",
       "      <td>www.mjplex.co.kr</td>\n",
       "      <td>서울 구로구</td>\n",
       "      <td>2.3</td>\n",
       "      <td>89.94 % (876 명)</td>\n",
       "      <td>97.84 % (953 명)</td>\n",
       "    </tr>\n",
       "    <tr>\n",
       "      <th>2</th>\n",
       "      <td>5</td>\n",
       "      <td>(주)앰진</td>\n",
       "      <td>중소기업</td>\n",
       "      <td>중소기업, 주식회사</td>\n",
       "      <td>0</td>\n",
       "      <td>0</td>\n",
       "      <td>2012년 6월 13일 (업력 10년)</td>\n",
       "      <td>www.amgine.co.kr</td>\n",
       "      <td>서울 송파구</td>\n",
       "      <td>3.0</td>\n",
       "      <td>40.00 % (8 명)</td>\n",
       "      <td>30.00 % (6 명)</td>\n",
       "    </tr>\n",
       "    <tr>\n",
       "      <th>3</th>\n",
       "      <td>6</td>\n",
       "      <td>(주)도킹블록</td>\n",
       "      <td>중소기업</td>\n",
       "      <td>중소기업, 주식회사</td>\n",
       "      <td>11</td>\n",
       "      <td>11 명  (2022년 기준)</td>\n",
       "      <td>2019년 3월 6일 (업력 3년)</td>\n",
       "      <td>dockingblock.com</td>\n",
       "      <td>서울 강남구</td>\n",
       "      <td>0.0</td>\n",
       "      <td>120.00 % (6 명)</td>\n",
       "      <td>100.00 % (5 명)</td>\n",
       "    </tr>\n",
       "    <tr>\n",
       "      <th>4</th>\n",
       "      <td>7</td>\n",
       "      <td>(주)헥토이노베이션</td>\n",
       "      <td>중소기업</td>\n",
       "      <td>코스닥, 중소기업, 주식회사, 병역특례 ..</td>\n",
       "      <td>140</td>\n",
       "      <td>140 명  (2022년 기준)</td>\n",
       "      <td>0</td>\n",
       "      <td>https://www.hectoinnovation.co.kr/</td>\n",
       "      <td>서울 강남구</td>\n",
       "      <td>3.3</td>\n",
       "      <td>120.00 % (6 명)</td>\n",
       "      <td>100.00 % (5 명)</td>\n",
       "    </tr>\n",
       "  </tbody>\n",
       "</table>\n",
       "</div>"
      ],
      "text/plain": [
       "   Unnamed: 0         기업명 기업구분2                      기업구분  사원수2  \\\n",
       "0           1     (주)페이타랩  중소기업  중소기업, 스타트업, 주식회사, 병역특례..    52   \n",
       "1           3   (주)엠제이플렉스  중소기업  중소기업, 스타트업, 외부감사법인, 주식..   930   \n",
       "2           5       (주)앰진  중소기업                중소기업, 주식회사     0   \n",
       "3           6     (주)도킹블록  중소기업                중소기업, 주식회사    11   \n",
       "4           7  (주)헥토이노베이션  중소기업  코스닥, 중소기업, 주식회사, 병역특례 ..   140   \n",
       "\n",
       "                 사원수                 설립일(업력)  \\\n",
       "0   52 명  (2022년 기준)   2018년 2월 28일 (업력 4년)    \n",
       "1  930 명  (2022년 기준)  2005년 3월 24일 (업력 17년)    \n",
       "2                  0  2012년 6월 13일 (업력 10년)    \n",
       "3   11 명  (2022년 기준)    2019년 3월 6일 (업력 3년)    \n",
       "4  140 명  (2022년 기준)                       0   \n",
       "\n",
       "                                 홈페이지       지역   별점              입사율  \\\n",
       "0                     passorder.co.kr  부산 부산진구  4.3  114.71 % (39 명)   \n",
       "1                    www.mjplex.co.kr   서울 구로구  2.3  89.94 % (876 명)   \n",
       "2                    www.amgine.co.kr   서울 송파구  3.0    40.00 % (8 명)   \n",
       "3                    dockingblock.com   서울 강남구  0.0   120.00 % (6 명)   \n",
       "4  https://www.hectoinnovation.co.kr/   서울 강남구  3.3   120.00 % (6 명)   \n",
       "\n",
       "               퇴사율  \n",
       "0   64.71 % (22 명)  \n",
       "1  97.84 % (953 명)  \n",
       "2    30.00 % (6 명)  \n",
       "3   100.00 % (5 명)  \n",
       "4   100.00 % (5 명)  "
      ]
     },
     "execution_count": 4,
     "metadata": {},
     "output_type": "execute_result"
    }
   ],
   "source": [
    "corp = pd.read_csv('corp3.csv', encoding='utf-8')\n",
    "corp.head()"
   ]
  },
  {
   "cell_type": "markdown",
   "metadata": {},
   "source": [
    "## 사원수 0명인 값 회사 Search해서 사원수 값 채워넣기"
   ]
  },
  {
   "cell_type": "markdown",
   "metadata": {},
   "source": [
    "- 각자 25개씩 나누어 분담"
   ]
  },
  {
   "attachments": {},
   "cell_type": "markdown",
   "metadata": {},
   "source": [
    "- 사람인 검색 기준"
   ]
  },
  {
   "cell_type": "code",
   "execution_count": 5,
   "metadata": {},
   "outputs": [],
   "source": [
    "corp_emp = corp[corp['사원수2']==0]\n",
    "corp_emp.reset_index(drop=True, inplace=True)"
   ]
  },
  {
   "cell_type": "code",
   "execution_count": 6,
   "metadata": {},
   "outputs": [
    {
     "data": {
      "text/plain": [
       "Unnamed: 0                      155\n",
       "기업명                      (주)클로버스튜디오\n",
       "기업구분2                          중소기업\n",
       "기업구분                           중소기업\n",
       "사원수2                              0\n",
       "사원수                               0\n",
       "설립일(업력)       2019년 7월 25일 (업력 3년) \n",
       "홈페이지                            NaN\n",
       "지역                           인천 연수구\n",
       "별점                              2.0\n",
       "입사율                 145.45 % (16 명)\n",
       "퇴사율                 118.18 % (13 명)\n",
       "Name: 50, dtype: object"
      ]
     },
     "execution_count": 6,
     "metadata": {},
     "output_type": "execute_result"
    }
   ],
   "source": [
    "# 25~50\n",
    "corp_emp.loc[50]"
   ]
  },
  {
   "cell_type": "markdown",
   "metadata": {},
   "source": [
    "- 기업 사원수.txt 파일에 저장"
   ]
  },
  {
   "cell_type": "markdown",
   "metadata": {},
   "source": [
    "## 데이터 탬색용 간단한 그래프"
   ]
  },
  {
   "cell_type": "markdown",
   "metadata": {},
   "source": [
    "#### 한글 폰트 설정"
   ]
  },
  {
   "cell_type": "code",
   "execution_count": 7,
   "metadata": {},
   "outputs": [],
   "source": [
    "import matplotlib.pyplot as plt\n",
    "from matplotlib import font_manager, rc\n",
    "import platform\n",
    "\n",
    "get_ipython().run_line_magic('matplotlib','inline')\n",
    "\n",
    "path = 'c:/Windows/Fonts/malgun.ttf'\n",
    "if platform.system() == 'Darwin':\n",
    "    rc('font', family='AppleGothic')\n",
    "elif platform.system() == 'Windows':\n",
    "    font_name = font_manager.FontProperties(fname=path).get_name()\n",
    "    rc('font', family=font_name)\n",
    "else:\n",
    "    print('Unknown system... sorry~~')"
   ]
  },
  {
   "cell_type": "code",
   "execution_count": 8,
   "metadata": {},
   "outputs": [],
   "source": [
    "import matplotlib.pyplot as plt\n",
    "import seaborn as sns"
   ]
  },
  {
   "cell_type": "markdown",
   "metadata": {},
   "source": [
    "#### 기업구분에 따른 회사 수"
   ]
  },
  {
   "cell_type": "code",
   "execution_count": 63,
   "metadata": {},
   "outputs": [
    {
     "data": {
      "image/png": "[encoded data removed]",
      "text/plain": [
       "<Figure size 640x480 with 1 Axes>"
      ]
     },
     "metadata": {},
     "output_type": "display_data"
    }
   ],
   "source": [
    "sns.countplot(x='기업구분2', data=corp);"
   ]
  },
  {
   "cell_type": "markdown",
   "metadata": {},
   "source": [
    "- 중소기업의 수가 압도적으로 많다."
   ]
  },
  {
   "cell_type": "markdown",
   "metadata": {},
   "source": [
    "#### 기업구분에 따른 사원수"
   ]
  },
  {
   "cell_type": "code",
   "execution_count": 68,
   "metadata": {},
   "outputs": [
    {
     "data": {
      "image/png": "[encoded data removed]",
      "text/plain": [
       "<Figure size 1600x600 with 1 Axes>"
      ]
     },
     "metadata": {},
     "output_type": "display_data"
    }
   ],
   "source": [
    "plt.figure(figsize=(16,6))\n",
    "sns.boxplot(x='사원수2', y='기업구분2', data=corp)\n",
    "plt.show()"
   ]
  },
  {
   "attachments": {},
   "cell_type": "markdown",
   "metadata": {},
   "source": [
    "- 중견기업, 대기업, 기타 ==> 이상치 제거 필요\n",
    "- 중소기업은 max로 해서 가장 큰 값 두개 만 제거하자"
   ]
  },
  {
   "attachments": {},
   "cell_type": "markdown",
   "metadata": {},
   "source": [
    "#### 기업구분에 따른 별점 상자그래프"
   ]
  },
  {
   "cell_type": "code",
   "execution_count": 73,
   "metadata": {},
   "outputs": [
    {
     "data": {
      "image/png": "[encoded data removed]",
      "text/plain": [
       "<Figure size 600x400 with 1 Axes>"
      ]
     },
     "metadata": {},
     "output_type": "display_data"
    }
   ],
   "source": [
    "plt.figure(figsize=(6,4))\n",
    "# sns.boxplot(x='별점', y='기업구분2', data=corp)\n",
    "sns.boxplot(x='기업구분2', y='별점', data=corp)\n",
    "plt.show()"
   ]
  },
  {
   "attachments": {},
   "cell_type": "markdown",
   "metadata": {},
   "source": [
    "- 별점은 이상치 제거하면 안될것 같다. \n",
    "- 별점은 이상치가 더 중요한 데이터 값  --> 과연?"
   ]
  },
  {
   "cell_type": "code",
   "execution_count": 74,
   "metadata": {},
   "outputs": [
    {
     "data": {
      "text/html": [
       "<div>\n",
       "<style scoped>\n",
       "    .dataframe tbody tr th:only-of-type {\n",
       "        vertical-align: middle;\n",
       "    }\n",
       "\n",
       "    .dataframe tbody tr th {\n",
       "        vertical-align: top;\n",
       "    }\n",
       "\n",
       "    .dataframe thead th {\n",
       "        text-align: right;\n",
       "    }\n",
       "</style>\n",
       "<table border=\"1\" class=\"dataframe\">\n",
       "  <thead>\n",
       "    <tr style=\"text-align: right;\">\n",
       "      <th></th>\n",
       "      <th>Unnamed: 0</th>\n",
       "      <th>기업명</th>\n",
       "      <th>기업구분2</th>\n",
       "      <th>기업구분</th>\n",
       "      <th>사원수2</th>\n",
       "      <th>사원수</th>\n",
       "      <th>설립일(업력)</th>\n",
       "      <th>홈페이지</th>\n",
       "      <th>지역</th>\n",
       "      <th>별점</th>\n",
       "      <th>입사율</th>\n",
       "      <th>퇴사율</th>\n",
       "    </tr>\n",
       "  </thead>\n",
       "  <tbody>\n",
       "    <tr>\n",
       "      <th>0</th>\n",
       "      <td>1</td>\n",
       "      <td>(주)페이타랩</td>\n",
       "      <td>중소기업</td>\n",
       "      <td>중소기업, 스타트업, 주식회사, 병역특례..</td>\n",
       "      <td>52</td>\n",
       "      <td>52 명  (2022년 기준)</td>\n",
       "      <td>2018년 2월 28일 (업력 4년)</td>\n",
       "      <td>passorder.co.kr</td>\n",
       "      <td>부산 부산진구</td>\n",
       "      <td>4.3</td>\n",
       "      <td>114.71 % (39 명)</td>\n",
       "      <td>64.71 % (22 명)</td>\n",
       "    </tr>\n",
       "    <tr>\n",
       "      <th>1</th>\n",
       "      <td>3</td>\n",
       "      <td>(주)엠제이플렉스</td>\n",
       "      <td>중소기업</td>\n",
       "      <td>중소기업, 스타트업, 외부감사법인, 주식..</td>\n",
       "      <td>930</td>\n",
       "      <td>930 명  (2022년 기준)</td>\n",
       "      <td>2005년 3월 24일 (업력 17년)</td>\n",
       "      <td>www.mjplex.co.kr</td>\n",
       "      <td>서울 구로구</td>\n",
       "      <td>2.3</td>\n",
       "      <td>89.94 % (876 명)</td>\n",
       "      <td>97.84 % (953 명)</td>\n",
       "    </tr>\n",
       "    <tr>\n",
       "      <th>2</th>\n",
       "      <td>5</td>\n",
       "      <td>(주)앰진</td>\n",
       "      <td>중소기업</td>\n",
       "      <td>중소기업, 주식회사</td>\n",
       "      <td>0</td>\n",
       "      <td>0</td>\n",
       "      <td>2012년 6월 13일 (업력 10년)</td>\n",
       "      <td>www.amgine.co.kr</td>\n",
       "      <td>서울 송파구</td>\n",
       "      <td>3.0</td>\n",
       "      <td>40.00 % (8 명)</td>\n",
       "      <td>30.00 % (6 명)</td>\n",
       "    </tr>\n",
       "    <tr>\n",
       "      <th>3</th>\n",
       "      <td>6</td>\n",
       "      <td>(주)도킹블록</td>\n",
       "      <td>중소기업</td>\n",
       "      <td>중소기업, 주식회사</td>\n",
       "      <td>11</td>\n",
       "      <td>11 명  (2022년 기준)</td>\n",
       "      <td>2019년 3월 6일 (업력 3년)</td>\n",
       "      <td>dockingblock.com</td>\n",
       "      <td>서울 강남구</td>\n",
       "      <td>0.0</td>\n",
       "      <td>120.00 % (6 명)</td>\n",
       "      <td>100.00 % (5 명)</td>\n",
       "    </tr>\n",
       "    <tr>\n",
       "      <th>4</th>\n",
       "      <td>7</td>\n",
       "      <td>(주)헥토이노베이션</td>\n",
       "      <td>중소기업</td>\n",
       "      <td>코스닥, 중소기업, 주식회사, 병역특례 ..</td>\n",
       "      <td>140</td>\n",
       "      <td>140 명  (2022년 기준)</td>\n",
       "      <td>0</td>\n",
       "      <td>https://www.hectoinnovation.co.kr/</td>\n",
       "      <td>서울 강남구</td>\n",
       "      <td>3.3</td>\n",
       "      <td>120.00 % (6 명)</td>\n",
       "      <td>100.00 % (5 명)</td>\n",
       "    </tr>\n",
       "    <tr>\n",
       "      <th>...</th>\n",
       "      <td>...</td>\n",
       "      <td>...</td>\n",
       "      <td>...</td>\n",
       "      <td>...</td>\n",
       "      <td>...</td>\n",
       "      <td>...</td>\n",
       "      <td>...</td>\n",
       "      <td>...</td>\n",
       "      <td>...</td>\n",
       "      <td>...</td>\n",
       "      <td>...</td>\n",
       "      <td>...</td>\n",
       "    </tr>\n",
       "    <tr>\n",
       "      <th>180</th>\n",
       "      <td>107</td>\n",
       "      <td>(주)유니텍</td>\n",
       "      <td>기타</td>\n",
       "      <td>외부감사법인, 주식회사</td>\n",
       "      <td>36</td>\n",
       "      <td>36 명  (2022년 기준)</td>\n",
       "      <td>0</td>\n",
       "      <td>www.unitech.co.kr</td>\n",
       "      <td>경기 안양시</td>\n",
       "      <td>2.2</td>\n",
       "      <td>8.82 % (3 명)</td>\n",
       "      <td>23.53 % (8 명)</td>\n",
       "    </tr>\n",
       "    <tr>\n",
       "      <th>181</th>\n",
       "      <td>126</td>\n",
       "      <td>(주)우리기술</td>\n",
       "      <td>기타</td>\n",
       "      <td>코스닥, 외부감사법인, 수출입 기업</td>\n",
       "      <td>115</td>\n",
       "      <td>115 명  (2022년 기준)</td>\n",
       "      <td>1995년 1월 12일 (업력 27년)</td>\n",
       "      <td>www.wooritg.com</td>\n",
       "      <td>서울 마포구</td>\n",
       "      <td>2.2</td>\n",
       "      <td>8.77 % (10 명)</td>\n",
       "      <td>5.26 % (6 명)</td>\n",
       "    </tr>\n",
       "    <tr>\n",
       "      <th>182</th>\n",
       "      <td>131</td>\n",
       "      <td>한국쓰리엠(주)</td>\n",
       "      <td>기타</td>\n",
       "      <td>외국 법인기업, 외부감사법인, 연구소, ..</td>\n",
       "      <td>1686</td>\n",
       "      <td>1686 명  (2022년 기준)</td>\n",
       "      <td>1977년 9월 17일 (업력 45년)</td>\n",
       "      <td>www.3m.co.kr</td>\n",
       "      <td>서울 영등포구</td>\n",
       "      <td>3.7</td>\n",
       "      <td>7.25 % (88 명)</td>\n",
       "      <td>8.00 % (97 명)</td>\n",
       "    </tr>\n",
       "    <tr>\n",
       "      <th>183</th>\n",
       "      <td>135</td>\n",
       "      <td>에스지에이(주)</td>\n",
       "      <td>기타</td>\n",
       "      <td>코스닥, 외국인 투자기업, 외부감사법인</td>\n",
       "      <td>193</td>\n",
       "      <td>193 명  (2022년 기준)</td>\n",
       "      <td>1997년 11월 21일 (업력 25년)</td>\n",
       "      <td>www.sgacorp.kr</td>\n",
       "      <td>서울 송파구</td>\n",
       "      <td>2.5</td>\n",
       "      <td>80.61 % (158 명)</td>\n",
       "      <td>70.92 % (139 명)</td>\n",
       "    </tr>\n",
       "    <tr>\n",
       "      <th>184</th>\n",
       "      <td>181</td>\n",
       "      <td>주식회사 한국미래에너지</td>\n",
       "      <td>기타</td>\n",
       "      <td>주식회사</td>\n",
       "      <td>25</td>\n",
       "      <td>25 명  (2021년 기준)</td>\n",
       "      <td>0</td>\n",
       "      <td>www.rfems.com</td>\n",
       "      <td>부산 강서구</td>\n",
       "      <td>3.0</td>\n",
       "      <td>42.31 % (11 명)</td>\n",
       "      <td>84.62 % (22 명)</td>\n",
       "    </tr>\n",
       "  </tbody>\n",
       "</table>\n",
       "<p>185 rows × 12 columns</p>\n",
       "</div>"
      ],
      "text/plain": [
       "     Unnamed: 0           기업명 기업구분2                      기업구분  사원수2  \\\n",
       "0             1       (주)페이타랩  중소기업  중소기업, 스타트업, 주식회사, 병역특례..    52   \n",
       "1             3     (주)엠제이플렉스  중소기업  중소기업, 스타트업, 외부감사법인, 주식..   930   \n",
       "2             5         (주)앰진  중소기업                중소기업, 주식회사     0   \n",
       "3             6       (주)도킹블록  중소기업                중소기업, 주식회사    11   \n",
       "4             7    (주)헥토이노베이션  중소기업  코스닥, 중소기업, 주식회사, 병역특례 ..   140   \n",
       "..          ...           ...   ...                       ...   ...   \n",
       "180         107        (주)유니텍    기타              외부감사법인, 주식회사    36   \n",
       "181         126       (주)우리기술    기타       코스닥, 외부감사법인, 수출입 기업   115   \n",
       "182         131      한국쓰리엠(주)    기타  외국 법인기업, 외부감사법인, 연구소, ..  1686   \n",
       "183         135      에스지에이(주)    기타     코스닥, 외국인 투자기업, 외부감사법인   193   \n",
       "184         181  주식회사 한국미래에너지    기타                      주식회사    25   \n",
       "\n",
       "                    사원수                  설립일(업력)  \\\n",
       "0      52 명  (2022년 기준)    2018년 2월 28일 (업력 4년)    \n",
       "1     930 명  (2022년 기준)   2005년 3월 24일 (업력 17년)    \n",
       "2                     0   2012년 6월 13일 (업력 10년)    \n",
       "3      11 명  (2022년 기준)     2019년 3월 6일 (업력 3년)    \n",
       "4     140 명  (2022년 기준)                        0   \n",
       "..                  ...                      ...   \n",
       "180    36 명  (2022년 기준)                        0   \n",
       "181   115 명  (2022년 기준)   1995년 1월 12일 (업력 27년)    \n",
       "182  1686 명  (2022년 기준)   1977년 9월 17일 (업력 45년)    \n",
       "183   193 명  (2022년 기준)  1997년 11월 21일 (업력 25년)    \n",
       "184    25 명  (2021년 기준)                        0   \n",
       "\n",
       "                                   홈페이지       지역   별점              입사율  \\\n",
       "0                       passorder.co.kr  부산 부산진구  4.3  114.71 % (39 명)   \n",
       "1                      www.mjplex.co.kr   서울 구로구  2.3  89.94 % (876 명)   \n",
       "2                      www.amgine.co.kr   서울 송파구  3.0    40.00 % (8 명)   \n",
       "3                      dockingblock.com   서울 강남구  0.0   120.00 % (6 명)   \n",
       "4    https://www.hectoinnovation.co.kr/   서울 강남구  3.3   120.00 % (6 명)   \n",
       "..                                  ...      ...  ...              ...   \n",
       "180                   www.unitech.co.kr   경기 안양시  2.2     8.82 % (3 명)   \n",
       "181                     www.wooritg.com   서울 마포구  2.2    8.77 % (10 명)   \n",
       "182                        www.3m.co.kr  서울 영등포구  3.7    7.25 % (88 명)   \n",
       "183                      www.sgacorp.kr   서울 송파구  2.5  80.61 % (158 명)   \n",
       "184                       www.rfems.com   부산 강서구  3.0   42.31 % (11 명)   \n",
       "\n",
       "                 퇴사율  \n",
       "0     64.71 % (22 명)  \n",
       "1    97.84 % (953 명)  \n",
       "2      30.00 % (6 명)  \n",
       "3     100.00 % (5 명)  \n",
       "4     100.00 % (5 명)  \n",
       "..               ...  \n",
       "180    23.53 % (8 명)  \n",
       "181     5.26 % (6 명)  \n",
       "182    8.00 % (97 명)  \n",
       "183  70.92 % (139 명)  \n",
       "184   84.62 % (22 명)  \n",
       "\n",
       "[185 rows x 12 columns]"
      ]
     },
     "execution_count": 74,
     "metadata": {},
     "output_type": "execute_result"
    }
   ],
   "source": [
    "corp"
   ]
  },
  {
   "attachments": {},
   "cell_type": "markdown",
   "metadata": {},
   "source": [
    "- 설립일(업력) 컬럼에서 업력 숫자 데이터만 가져올 필요성 있음\n",
    "- 지역 컬럼에서 시, 구 나눠보는건 어떨까?\n",
    "- 입사율과 퇴사율 컬럼을 사용하려면 float형으로 변환이 필요  --> % 데이터만 가져올까?"
   ]
  },
  {
   "cell_type": "markdown",
   "metadata": {},
   "source": [
    "## 12/19"
   ]
  },
  {
   "cell_type": "markdown",
   "metadata": {},
   "source": [
    "## 기업 사원수 0값 Search & 채우기"
   ]
  },
  {
   "cell_type": "code",
   "execution_count": null,
   "metadata": {},
   "outputs": [],
   "source": [
    "# 57, 콴텍(주), 24, 2013년 04월 15일 (업력 13년)"
   ]
  },
  {
   "cell_type": "code",
   "execution_count": 1,
   "metadata": {},
   "outputs": [],
   "source": [
    "def insert_emp(index, employee, date=None):\n",
    "    corp.at[index,'사원수2'] = employee\n",
    "    corp.at[index,'설립일(업력)'] = str(date)"
   ]
  },
  {
   "cell_type": "code",
   "execution_count": 18,
   "metadata": {},
   "outputs": [],
   "source": [
    "insert_emp(57, 24, '2013년 04월 15일 (업력 13년)')"
   ]
  },
  {
   "cell_type": "code",
   "execution_count": 19,
   "metadata": {},
   "outputs": [
    {
     "data": {
      "text/plain": [
       "Unnamed: 0                        82\n",
       "기업명                            콴텍(주)\n",
       "기업구분2                           중소기업\n",
       "기업구분                중소기업, 스타트업, 주식회사\n",
       "사원수2                              24\n",
       "사원수                                0\n",
       "설립일(업력)       2013년 04월 15일 (업력 13년)\n",
       "홈페이지               www.quantec.co.kr\n",
       "지역                           서울 영등포구\n",
       "별점                               2.9\n",
       "입사율                  122.22 % (22 명)\n",
       "퇴사율                   94.44 % (17 명)\n",
       "Name: 57, dtype: object"
      ]
     },
     "execution_count": 19,
     "metadata": {},
     "output_type": "execute_result"
    }
   ],
   "source": [
    "corp.loc[57]"
   ]
  },
  {
   "cell_type": "markdown",
   "metadata": {},
   "source": [
    "## EDA 간단히 그래프로"
   ]
  },
  {
   "cell_type": "code",
   "execution_count": 21,
   "metadata": {},
   "outputs": [
    {
     "data": {
      "text/html": [
       "<div>\n",
       "<style scoped>\n",
       "    .dataframe tbody tr th:only-of-type {\n",
       "        vertical-align: middle;\n",
       "    }\n",
       "\n",
       "    .dataframe tbody tr th {\n",
       "        vertical-align: top;\n",
       "    }\n",
       "\n",
       "    .dataframe thead th {\n",
       "        text-align: right;\n",
       "    }\n",
       "</style>\n",
       "<table border=\"1\" class=\"dataframe\">\n",
       "  <thead>\n",
       "    <tr style=\"text-align: right;\">\n",
       "      <th></th>\n",
       "      <th>Unnamed: 0.1</th>\n",
       "      <th>Unnamed: 0</th>\n",
       "      <th>기업명</th>\n",
       "      <th>기업구분2</th>\n",
       "      <th>기업구분</th>\n",
       "      <th>사원수2</th>\n",
       "      <th>사원수</th>\n",
       "      <th>설립일(업력)</th>\n",
       "      <th>홈페이지</th>\n",
       "      <th>지역</th>\n",
       "      <th>별점</th>\n",
       "      <th>입사율</th>\n",
       "      <th>퇴사율</th>\n",
       "    </tr>\n",
       "  </thead>\n",
       "  <tbody>\n",
       "    <tr>\n",
       "      <th>0</th>\n",
       "      <td>0</td>\n",
       "      <td>0</td>\n",
       "      <td>(주)페이타랩</td>\n",
       "      <td>중소기업</td>\n",
       "      <td>중소기업, 스타트업, 주식회사, 병역특례..</td>\n",
       "      <td>52</td>\n",
       "      <td>52 명  (2022년 기준)</td>\n",
       "      <td>2018년 2월 28일 (업력 4년)</td>\n",
       "      <td>passorder.co.kr</td>\n",
       "      <td>부산 부산진구</td>\n",
       "      <td>4.3</td>\n",
       "      <td>114.71 % (39 명)</td>\n",
       "      <td>64.71 % (22 명)</td>\n",
       "    </tr>\n",
       "    <tr>\n",
       "      <th>1</th>\n",
       "      <td>1</td>\n",
       "      <td>1</td>\n",
       "      <td>(주)엠제이플렉스</td>\n",
       "      <td>중소기업</td>\n",
       "      <td>중소기업, 스타트업, 외부감사법인, 주식..</td>\n",
       "      <td>930</td>\n",
       "      <td>930 명  (2022년 기준)</td>\n",
       "      <td>2005년 3월 24일 (업력 17년)</td>\n",
       "      <td>www.mjplex.co.kr</td>\n",
       "      <td>서울 구로구</td>\n",
       "      <td>2.3</td>\n",
       "      <td>89.94 % (876 명)</td>\n",
       "      <td>97.84 % (953 명)</td>\n",
       "    </tr>\n",
       "    <tr>\n",
       "      <th>2</th>\n",
       "      <td>2</td>\n",
       "      <td>2</td>\n",
       "      <td>(주)앰진</td>\n",
       "      <td>중소기업</td>\n",
       "      <td>중소기업, 주식회사</td>\n",
       "      <td>20</td>\n",
       "      <td>20 명  (2022년 기준)</td>\n",
       "      <td>2012년 6월 13일 (업력 10년)</td>\n",
       "      <td>www.amgine.co.kr</td>\n",
       "      <td>서울 송파구</td>\n",
       "      <td>3.0</td>\n",
       "      <td>40.00 % (8 명)</td>\n",
       "      <td>30.00 % (6 명)</td>\n",
       "    </tr>\n",
       "    <tr>\n",
       "      <th>3</th>\n",
       "      <td>3</td>\n",
       "      <td>3</td>\n",
       "      <td>(주)도킹블록</td>\n",
       "      <td>중소기업</td>\n",
       "      <td>중소기업, 주식회사</td>\n",
       "      <td>11</td>\n",
       "      <td>11 명  (2022년 기준)</td>\n",
       "      <td>2019년 3월 6일 (업력 3년)</td>\n",
       "      <td>dockingblock.com</td>\n",
       "      <td>서울 강남구</td>\n",
       "      <td>0.0</td>\n",
       "      <td>120.00 % (6 명)</td>\n",
       "      <td>100.00 % (5 명)</td>\n",
       "    </tr>\n",
       "    <tr>\n",
       "      <th>4</th>\n",
       "      <td>4</td>\n",
       "      <td>4</td>\n",
       "      <td>(주)헥토이노베이션</td>\n",
       "      <td>중소기업</td>\n",
       "      <td>코스닥, 중소기업, 주식회사, 병역특례 ..</td>\n",
       "      <td>140</td>\n",
       "      <td>140 명  (2022년 기준)</td>\n",
       "      <td>0</td>\n",
       "      <td>https://www.hectoinnovation.co.kr/</td>\n",
       "      <td>서울 강남구</td>\n",
       "      <td>3.3</td>\n",
       "      <td>120.00 % (6 명)</td>\n",
       "      <td>100.00 % (5 명)</td>\n",
       "    </tr>\n",
       "  </tbody>\n",
       "</table>\n",
       "</div>"
      ],
      "text/plain": [
       "   Unnamed: 0.1  Unnamed: 0         기업명 기업구분2                      기업구분  사원수2  \\\n",
       "0             0           0     (주)페이타랩  중소기업  중소기업, 스타트업, 주식회사, 병역특례..    52   \n",
       "1             1           1   (주)엠제이플렉스  중소기업  중소기업, 스타트업, 외부감사법인, 주식..   930   \n",
       "2             2           2       (주)앰진  중소기업                중소기업, 주식회사    20   \n",
       "3             3           3     (주)도킹블록  중소기업                중소기업, 주식회사    11   \n",
       "4             4           4  (주)헥토이노베이션  중소기업  코스닥, 중소기업, 주식회사, 병역특례 ..   140   \n",
       "\n",
       "                 사원수                 설립일(업력)  \\\n",
       "0   52 명  (2022년 기준)   2018년 2월 28일 (업력 4년)    \n",
       "1  930 명  (2022년 기준)  2005년 3월 24일 (업력 17년)    \n",
       "2   20 명  (2022년 기준)  2012년 6월 13일 (업력 10년)    \n",
       "3   11 명  (2022년 기준)    2019년 3월 6일 (업력 3년)    \n",
       "4  140 명  (2022년 기준)                       0   \n",
       "\n",
       "                                 홈페이지       지역   별점              입사율  \\\n",
       "0                     passorder.co.kr  부산 부산진구  4.3  114.71 % (39 명)   \n",
       "1                    www.mjplex.co.kr   서울 구로구  2.3  89.94 % (876 명)   \n",
       "2                    www.amgine.co.kr   서울 송파구  3.0    40.00 % (8 명)   \n",
       "3                    dockingblock.com   서울 강남구  0.0   120.00 % (6 명)   \n",
       "4  https://www.hectoinnovation.co.kr/   서울 강남구  3.3   120.00 % (6 명)   \n",
       "\n",
       "               퇴사율  \n",
       "0   64.71 % (22 명)  \n",
       "1  97.84 % (953 명)  \n",
       "2    30.00 % (6 명)  \n",
       "3   100.00 % (5 명)  \n",
       "4   100.00 % (5 명)  "
      ]
     },
     "execution_count": 21,
     "metadata": {},
     "output_type": "execute_result"
    }
   ],
   "source": [
    "url = 'https://raw.githubusercontent.com/ghltorrhdiddl2/ml-project-3/main/EDA%26Preprocessing/company1.csv'\n",
    "company = pd.read_csv(url, encoding='utf-8')\n",
    "company.head()"
   ]
  }
 ],
 "metadata": {
  "kernelspec": {
   "display_name": "ds_study",
   "language": "python",
   "name": "ds_study"
  },
  "language_info": {
   "codemirror_mode": {
    "name": "ipython",
    "version": 3
   },
   "file_extension": ".py",
   "mimetype": "text/x-python",
   "name": "python",
   "nbconvert_exporter": "python",
   "pygments_lexer": "ipython3",
   "version": "3.8.13"
  },
  "orig_nbformat": 4
 },
 "nbformat": 4,
 "nbformat_minor": 2
}
